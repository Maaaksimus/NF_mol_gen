{
 "cells": [
  {
   "cell_type": "code",
   "execution_count": 1,
   "metadata": {},
   "outputs": [],
   "source": [
    "import os\n",
    "import torch\n",
    "from torch import nn\n",
    "from torchvision.datasets import CIFAR10\n",
    "from torch.utils.data import DataLoader\n",
    "from torchvision import transforms"
   ]
  },
  {
   "cell_type": "code",
   "execution_count": 20,
   "metadata": {},
   "outputs": [],
   "source": [
    "import optimize_property as op\n",
    "import pandas as pd\n",
    "import argparse\n",
    "from models.MolHF import MolHF\n",
    "from tqdm import tqdm\n",
    "import numpy as np\n",
    "from multiprocessing import Pool"
   ]
  },
  {
   "cell_type": "code",
   "execution_count": 6,
   "metadata": {},
   "outputs": [
    {
     "name": "stdout",
     "output_type": "stream",
     "text": [
      "C14H20O2\n"
     ]
    }
   ],
   "source": [
    "from rdkit import Chem\n",
    "\n",
    "smiles = \"CC1(C)C2CCC3(C)C(O)C(=O)C2C14CC34\"\n",
    "mol = Chem.MolFromSmiles(smiles)\n",
    "formula = Chem.rdMolDescriptors.CalcMolFormula(mol)\n",
    "print(formula)  # C18H26N2O5S"
   ]
  },
  {
   "cell_type": "code",
   "execution_count": 3,
   "metadata": {},
   "outputs": [],
   "source": [
    "train_data = pd.read_csv('./data_preprocessed/zinc250k/zinc250k_property.csv')"
   ]
  },
  {
   "cell_type": "code",
   "execution_count": 4,
   "metadata": {},
   "outputs": [
    {
     "data": {
      "text/plain": [
       "<All keys matched successfully>"
      ]
     },
     "execution_count": 4,
     "metadata": {},
     "output_type": "execute_result"
    }
   ],
   "source": [
    "data_path = os.path.join('./data_preprocessed', 'zinc250k')\n",
    "with open(os.path.join(data_path, 'config.txt'), 'r') as f:\n",
    "    data_config = eval(f.read())\n",
    "\n",
    "# Предобученная модель для оптимизации\n",
    "\n",
    "parser = argparse.ArgumentParser()\n",
    "\n",
    "#общие параметры\n",
    "parser.dataset = 'zinc250k' \n",
    "parser.device = 'cpu' \n",
    "parser.seed = 42\n",
    "parser.save = True\n",
    "parser.model = 'MolHF'\n",
    "parser.order = 'bfs'\n",
    "parser.property_name = 'plogp'\n",
    "\n",
    "parser.init_checkpoint = './save_pretrain/zinc250k_model/checkpoint.pth'\n",
    "parser.model_dir = './save_optimization'\n",
    "parser.property_model_path = 'plogp_moflow_zinc250k_10.pth'\n",
    "\n",
    "# параметры модели\n",
    "parser.deq_scale = 0.6 \n",
    "parser.batch_size = 256\n",
    "parser.lr = 1e-3 \n",
    "parser.squeeze_fold = 2 \n",
    "parser.n_block = 4 \n",
    "parser.a_num_flows = 6 \n",
    "parser.num_layers = 2 \n",
    "parser.hid_dim = 256 \n",
    "parser.b_num_flows = 3 \n",
    "parser.filter_size = 256 \n",
    "parser.temperature = 0.6 \n",
    "parser.learn_prior = True \n",
    "parser.inv_conv = True \n",
    "parser.inv_rotate = True \n",
    "parser.condition = True\n",
    "parser.hidden = '32'\n",
    "\n",
    "parser.num_data = None\n",
    "parser.is_test_idx = False\n",
    "parser.num_workers = 0\n",
    "parser.deq_type = 'random'\n",
    "parser.debug = 'true'\n",
    "\n",
    "# опциональные параметры для оптимизации\n",
    "parser.split = 'moflow'\n",
    "parser.topk = 30 \n",
    "parser.num_iter = 10 \n",
    "parser.opt_lr = 0.5\n",
    "parser.topscore = False\n",
    "parser.consopt = True\n",
    "\n",
    "mol_model = MolHF(data_config, parser)\n",
    "\n",
    "checkpoint = torch.load('./save_pretrain/zinc250k_model/checkpoint.pth', map_location='cpu')\n",
    "mol_model.load_state_dict(checkpoint['model_state_dict'])"
   ]
  },
  {
   "cell_type": "code",
   "execution_count": 5,
   "metadata": {},
   "outputs": [
    {
     "name": "stdout",
     "output_type": "stream",
     "text": [
      "reading data from ./data_preprocessed/zinc250k\n",
      "Atom order: bfs\n"
     ]
    }
   ],
   "source": [
    "dataset = op.PretrainDataset(\"./data_preprocessed/{}\".format('zinc250k'), data_config, parser)\n",
    "data_loader = DataLoader(dataset, batch_size=1, shuffle=False)"
   ]
  },
  {
   "cell_type": "code",
   "execution_count": 6,
   "metadata": {},
   "outputs": [
    {
     "data": {
      "text/plain": [
       "<torch.utils.data.dataloader.DataLoader at 0x1c4c7bab730>"
      ]
     },
     "execution_count": 6,
     "metadata": {},
     "output_type": "execute_result"
    }
   ],
   "source": [
    "data_loader"
   ]
  },
  {
   "cell_type": "code",
   "execution_count": 7,
   "metadata": {},
   "outputs": [],
   "source": [
    "X = np.load(\"./data_preprocessed/zinc250k/node_features.npy\")\n",
    "A = np.load(\"./data_preprocessed/zinc250k/adj_features.npy\")"
   ]
  },
  {
   "cell_type": "code",
   "execution_count": 8,
   "metadata": {},
   "outputs": [],
   "source": [
    "ms = np.load(\"./data_preprocessed/zinc250k/mol_sizes.npy\")"
   ]
  },
  {
   "cell_type": "code",
   "execution_count": 9,
   "metadata": {},
   "outputs": [
    {
     "data": {
      "text/plain": [
       "array([24, 21, 29, ..., 22, 24, 34], dtype=int64)"
      ]
     },
     "execution_count": 9,
     "metadata": {},
     "output_type": "execute_result"
    }
   ],
   "source": [
    "ms"
   ]
  },
  {
   "cell_type": "code",
   "execution_count": null,
   "metadata": {},
   "outputs": [],
   "source": [
    "from rdkit.Chem.rdMolDescriptors import CalcNumAtoms\n",
    "from rdkit.Chem import MolFromSmiles\n",
    "from tqdm import tqdm\n",
    "\n",
    "fp = open('./dataset/zinc1500k/zinc1500k.smi', 'r')\n",
    "smiles_list = [smiles.strip() for smiles in fp]"
   ]
  },
  {
   "cell_type": "code",
   "execution_count": 5,
   "metadata": {},
   "outputs": [
    {
     "name": "stderr",
     "output_type": "stream",
     "text": [
      "100%|██████████| 1584663/1584663 [05:14<00:00, 5042.29it/s]\n"
     ]
    }
   ],
   "source": [
    "max_atoms = 0\n",
    "max_atoms_less_40 = 0\n",
    "mol_sizes = []\n",
    "\n",
    "for i, sml in tqdm(enumerate(smiles_list), total=len(smiles_list)):\n",
    "    # curr = CalcNumAtoms(MolFromSmiles(sml))\n",
    "    mol_sizes.append(CalcNumAtoms(MolFromSmiles(sml)))\n",
    "    # max_atoms = curr if curr > max_atoms else max_atoms\n",
    "    # max_atoms_less_40 = curr if (curr > max_atoms_less_40) & (curr <= 40) else max_atoms_less_40\n",
    "    # if i % 100000 == 0:\n",
    "    #     print('Итерация {}, текущий максимум: {}, максимум less_40: {}'.format(i, max_atoms, max_atoms_less_40))"
   ]
  },
  {
   "cell_type": "code",
   "execution_count": 18,
   "metadata": {},
   "outputs": [
    {
     "data": {
      "image/png": "[encoded data removed]",
      "text/plain": [
       "<Figure size 640x480 with 1 Axes>"
      ]
     },
     "metadata": {},
     "output_type": "display_data"
    }
   ],
   "source": [
    "import matplotlib.pyplot as plt\n",
    "\n",
    "# Создаём гистограмму\n",
    "plt.hist(mol_sizes[:500000], color='blue', alpha=0.3)\n",
    "plt.title('Гистограмма распределения данных')\n",
    "plt.xlabel('Значения')\n",
    "plt.ylabel('Частота')\n",
    "plt.show()"
   ]
  },
  {
   "cell_type": "code",
   "execution_count": 24,
   "metadata": {},
   "outputs": [],
   "source": [
    "gen_smiles = pd.read_csv('MolHF_gen.csv').values.ravel().tolist()"
   ]
  },
  {
   "cell_type": "code",
   "execution_count": 31,
   "metadata": {},
   "outputs": [],
   "source": [
    "x = None\n",
    "assert(isinstance(x, type(None)))"
   ]
  },
  {
   "cell_type": "code",
   "execution_count": 32,
   "metadata": {},
   "outputs": [
    {
     "name": "stderr",
     "output_type": "stream",
     "text": [
      "100%|██████████| 30000/30000 [00:04<00:00, 6970.28it/s]\n"
     ]
    }
   ],
   "source": [
    "mol_sizes_gen = []\n",
    "\n",
    "for i, sml in tqdm(enumerate(gen_smiles), total=len(gen_smiles)):\n",
    "    # curr = CalcNumAtoms(MolFromSmiles(sml))\n",
    "    mol = MolFromSmiles(sml)\n",
    "    if not isinstance(mol, type(None)):\n",
    "        mol_sizes_gen.append(CalcNumAtoms(mol))"
   ]
  },
  {
   "cell_type": "code",
   "execution_count": 33,
   "metadata": {},
   "outputs": [
    {
     "data": {
      "image/png": "[encoded data removed]",
      "text/plain": [
       "<Figure size 640x480 with 1 Axes>"
      ]
     },
     "metadata": {},
     "output_type": "display_data"
    }
   ],
   "source": [
    "plt.hist(mol_sizes_gen, color='blue', alpha=0.3)\n",
    "plt.title('Гистограмма распределения данных')\n",
    "plt.xlabel('Значения')\n",
    "plt.ylabel('Частота')\n",
    "plt.show()"
   ]
  },
  {
   "cell_type": "code",
   "execution_count": null,
   "metadata": {},
   "outputs": [
    {
     "name": "stderr",
     "output_type": "stream",
     "text": [
      "  0%|          | 0/1584663 [00:00<?, ?it/s]"
     ]
    }
   ],
   "source": [
    "def get_num_of_atoms(sml):\n",
    "    return CalcNumAtoms(MolFromSmiles(sml))\n",
    "\n",
    "with Pool(processes=torch.multiprocessing.cpu_count()) as pool:\n",
    "    iter = pool.imap(get_num_of_atoms, smiles_list)\n",
    "    for _, n in tqdm(enumerate(iter), total=len(smiles_list)):\n",
    "        max_atoms = n if n > max_atoms else max_atoms"
   ]
  },
  {
   "cell_type": "code",
   "execution_count": null,
   "metadata": {},
   "outputs": [],
   "source": [
    "fp = open('./dataset/zinc250k/zinc250k.smi', 'r')\n",
    "smiles_list = [smiles.strip() for smiles in fp]\n",
    "\n",
    "X_list = []\n",
    "A_list = []\n",
    "\n",
    "def get_XA(obj):\n",
    "    return {'X': obj['node'], 'A': obj['adj']}\n",
    "\n",
    "with Pool(processes=torch.multiprocessing.cpu_count()) as pool:\n",
    "    iter = pool.imap(get_XA, smiles_list)\n",
    "    print(type(next(iter)))\n",
    "    # for _, x, a in tqdm(enumerate(iter), total=len(smiles_list)):\n",
    "    #     print(_)\n",
    "    #     X_list.append(x)\n",
    "    #     A_list.append(a)\n",
    "        \n",
    "\n",
    "# for i, obj in tqdm(enumerate(data_loader)):\n",
    "#     X = obj['node']\n",
    "#     A = obj['adj']\n",
    "#     X_list.append(X)\n",
    "#     A_list.append(A)\n",
    "    # print(X.shape, A.shape)\n",
    "    # z, _, _ = mol_model(X, A)\n",
    "    # z_list.append(mol_model.to_latent_format(z).ravel().detach().numpy())\n",
    "    # break"
   ]
  },
  {
   "cell_type": "code",
   "execution_count": null,
   "metadata": {},
   "outputs": [
    {
     "name": "stderr",
     "output_type": "stream",
     "text": [
      "0it [00:00, ?it/s]"
     ]
    }
   ],
   "source": [
    "z_list = []\n",
    "mol_graphs = zip(X_list, A_list)\n",
    "\n",
    "def process_mol(args):\n",
    "    return mol_model.forward(*args)\n",
    "\n",
    "with Pool(processes=torch.multiprocessing.cpu_count()) as pool:\n",
    "    iter = pool.imap(process_mol, mol_graphs)\n",
    "    for _, z_vec in tqdm(enumerate(iter)):\n",
    "        print(_)\n",
    "        z_list.append(z_vec.ravel().detach().numpy())"
   ]
  },
  {
   "cell_type": "code",
   "execution_count": 18,
   "metadata": {},
   "outputs": [],
   "source": [
    "z_frame = pd.DataFrame(z_list, columns=['SMILES', 'z'])\n",
    "z_frame.to_csv('mlp_dataset.csv')"
   ]
  },
  {
   "cell_type": "code",
   "execution_count": 23,
   "metadata": {},
   "outputs": [
    {
     "data": {
      "text/plain": [
       "'[ 0.5415718   0.6663616  -0.2810844  ... -0.04863703 -1.8517721\\n -0.5921116 ]'"
      ]
     },
     "execution_count": 23,
     "metadata": {},
     "output_type": "execute_result"
    }
   ],
   "source": [
    "pd.read_csv('mlp_dataset.csv')['z'][0]"
   ]
  },
  {
   "cell_type": "code",
   "execution_count": 9,
   "metadata": {},
   "outputs": [],
   "source": [
    "class simpleMLP(nn.Module):\n",
    "\n",
    "    def __init__(self):\n",
    "        super().__init__()\n",
    "        self.layers = nn.Sequential(\n",
    "            nn.Flatten(),\n",
    "            nn.Linear(32 * 32 * 3, 64),\n",
    "            nn.ReLU(),\n",
    "            nn.Linear(64, 32),\n",
    "            nn.ReLU(),\n",
    "            nn.Linear(32, 10)\n",
    "        )\n",
    "\n",
    "\n",
    "    def forward(self, x):\n",
    "        return self.layers(x)"
   ]
  },
  {
   "cell_type": "code",
   "execution_count": 3,
   "metadata": {},
   "outputs": [
    {
     "name": "stdout",
     "output_type": "stream",
     "text": [
      "Downloading https://www.cs.toronto.edu/~kriz/cifar-10-python.tar.gz to c:\\Users\\Makss\\Documents\\Учёба\\Диплом\\NF_mol_gen\\my_scripts\\cifar-10-python.tar.gz\n"
     ]
    },
    {
     "name": "stderr",
     "output_type": "stream",
     "text": [
      "100%|██████████| 170498071/170498071 [00:21<00:00, 7870354.52it/s]\n"
     ]
    },
    {
     "name": "stdout",
     "output_type": "stream",
     "text": [
      "Extracting c:\\Users\\Makss\\Documents\\Учёба\\Диплом\\NF_mol_gen\\my_scripts\\cifar-10-python.tar.gz to c:\\Users\\Makss\\Documents\\Учёба\\Диплом\\NF_mol_gen\\my_scripts\n"
     ]
    }
   ],
   "source": [
    "dataset = CIFAR10(os.getcwd(), download=True, transform=transforms.ToTensor())\n",
    "trainloader = DataLoader(dataset, batch_size=10, shuffle=True, num_workers=1)"
   ]
  },
  {
   "cell_type": "code",
   "execution_count": 10,
   "metadata": {},
   "outputs": [],
   "source": [
    "mlp = simpleMLP()\n",
    "loss_func = nn.CrossEntropyLoss()\n",
    "optimizer = torch.optim.Adam(mlp.parameters(), lr=1e-4)"
   ]
  },
  {
   "cell_type": "code",
   "execution_count": 11,
   "metadata": {},
   "outputs": [
    {
     "name": "stdout",
     "output_type": "stream",
     "text": [
      "Epoch:  1\n",
      "Loss after mini-batch   500: 2.225\n",
      "Loss after mini-batch  1000: 2.088\n",
      "Loss after mini-batch  1500: 2.014\n",
      "Loss after mini-batch  2000: 1.957\n",
      "Loss after mini-batch  2500: 1.943\n",
      "Loss after mini-batch  3000: 1.930\n",
      "Loss after mini-batch  3500: 1.900\n",
      "Loss after mini-batch  4000: 1.894\n",
      "Loss after mini-batch  4500: 1.863\n",
      "Loss after mini-batch  5000: 1.887\n",
      "Epoch:  2\n",
      "Loss after mini-batch   500: 1.840\n",
      "Loss after mini-batch  1000: 1.835\n",
      "Loss after mini-batch  1500: 1.831\n",
      "Loss after mini-batch  2000: 1.848\n",
      "Loss after mini-batch  2500: 1.817\n",
      "Loss after mini-batch  3000: 1.806\n",
      "Loss after mini-batch  3500: 1.805\n",
      "Loss after mini-batch  4000: 1.794\n",
      "Loss after mini-batch  4500: 1.795\n",
      "Loss after mini-batch  5000: 1.784\n",
      "Epoch:  3\n",
      "Loss after mini-batch   500: 1.788\n",
      "Loss after mini-batch  1000: 1.774\n",
      "Loss after mini-batch  1500: 1.750\n",
      "Loss after mini-batch  2000: 1.758\n",
      "Loss after mini-batch  2500: 1.757\n",
      "Loss after mini-batch  3000: 1.740\n",
      "Loss after mini-batch  3500: 1.746\n",
      "Loss after mini-batch  4000: 1.712\n",
      "Loss after mini-batch  4500: 1.730\n",
      "Loss after mini-batch  5000: 1.738\n",
      "Epoch:  4\n",
      "Loss after mini-batch   500: 1.706\n",
      "Loss after mini-batch  1000: 1.726\n",
      "Loss after mini-batch  1500: 1.689\n",
      "Loss after mini-batch  2000: 1.697\n",
      "Loss after mini-batch  2500: 1.690\n",
      "Loss after mini-batch  3000: 1.690\n",
      "Loss after mini-batch  3500: 1.703\n",
      "Loss after mini-batch  4000: 1.692\n",
      "Loss after mini-batch  4500: 1.698\n",
      "Loss after mini-batch  5000: 1.720\n",
      "Epoch:  5\n",
      "Loss after mini-batch   500: 1.697\n",
      "Loss after mini-batch  1000: 1.668\n",
      "Loss after mini-batch  1500: 1.672\n",
      "Loss after mini-batch  2000: 1.683\n",
      "Loss after mini-batch  2500: 1.653\n",
      "Loss after mini-batch  3000: 1.665\n",
      "Loss after mini-batch  3500: 1.651\n",
      "Loss after mini-batch  4000: 1.645\n",
      "Loss after mini-batch  4500: 1.649\n",
      "Loss after mini-batch  5000: 1.644\n",
      "Training process has finished.\n"
     ]
    }
   ],
   "source": [
    "for epoch in range(5):\n",
    "    print('Epoch: ', epoch + 1)\n",
    "\n",
    "    current_loss = 0.\n",
    "\n",
    "    for i, data in enumerate(trainloader):\n",
    "\n",
    "        inputs, targets = data\n",
    "        optimizer.zero_grad()\n",
    "        \n",
    "        outputs = mlp(inputs)\n",
    "        loss = loss_func(outputs, targets)\n",
    "\n",
    "        loss.backward()\n",
    "        optimizer.step()\n",
    "\n",
    "        current_loss += loss.item()\n",
    "\n",
    "        if i % 500 == 499:\n",
    "          print('Loss after mini-batch %5d: %.3f' % (i + 1, current_loss / 500))\n",
    "          current_loss = 0.0\n",
    "\n",
    "print('Training process has finished.')\n",
    "\n"
   ]
  },
  {
   "cell_type": "code",
   "execution_count": null,
   "metadata": {},
   "outputs": [],
   "source": [
    "mlp"
   ]
  }
 ],
 "metadata": {
  "kernelspec": {
   "display_name": "cuda_ml310",
   "language": "python",
   "name": "python3"
  },
  "language_info": {
   "codemirror_mode": {
    "name": "ipython",
    "version": 3
   },
   "file_extension": ".py",
   "mimetype": "text/x-python",
   "name": "python",
   "nbconvert_exporter": "python",
   "pygments_lexer": "ipython3",
   "version": "3.10.16"
  }
 },
 "nbformat": 4,
 "nbformat_minor": 2
}
