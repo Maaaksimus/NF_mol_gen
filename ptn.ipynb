{
 "cells": [
  {
   "cell_type": "code",
   "execution_count": 1,
   "metadata": {},
   "outputs": [],
   "source": [
    "from rdkit import Chem\n",
    "from rdkit.Chem import Draw"
   ]
  },
  {
   "cell_type": "code",
   "execution_count": 1,
   "metadata": {},
   "outputs": [],
   "source": [
    "import numpy as np"
   ]
  },
  {
   "cell_type": "code",
   "execution_count": 2,
   "metadata": {},
   "outputs": [
    {
     "name": "stdout",
     "output_type": "stream",
     "text": [
      "Nodes done\n",
      "Bonds done\n"
     ]
    }
   ],
   "source": [
    "X = np.load('./data_preprocessed/zinc250k/node_features.npy')\n",
    "print('Nodes done')\n",
    "A = np.load('./data_preprocessed/zinc250k/adj_features.npy')\n",
    "print('Bonds done')"
   ]
  },
  {
   "cell_type": "code",
   "execution_count": 4,
   "metadata": {},
   "outputs": [
    {
     "data": {
      "text/plain": [
       "(249456, 40)"
      ]
     },
     "execution_count": 4,
     "metadata": {},
     "output_type": "execute_result"
    }
   ],
   "source": [
    "X.shape"
   ]
  },
  {
   "cell_type": "code",
   "execution_count": 8,
   "metadata": {},
   "outputs": [
    {
     "name": "stderr",
     "output_type": "stream",
     "text": [
      "<frozen importlib._bootstrap>:241: RuntimeWarning: to-Python converter for class boost::shared_ptr<class RDKit::FilterHierarchyMatcher> already registered; second conversion method ignored.\n",
      "<frozen importlib._bootstrap>:241: RuntimeWarning: to-Python converter for class boost::shared_ptr<class RDKit::FilterCatalogEntry> already registered; second conversion method ignored.\n"
     ]
    }
   ],
   "source": [
    "from utils import valid_mol"
   ]
  },
  {
   "cell_type": "code",
   "execution_count": 1,
   "metadata": {},
   "outputs": [
    {
     "name": "stderr",
     "output_type": "stream",
     "text": [
      "c:\\Anaconda\\anaconda3\\envs\\cuda_ml39\\lib\\site-packages\\molsets-1.0-py3.9.egg\\moses\\metrics\\utils.py:24: FutureWarning: The frame.append method is deprecated and will be removed from pandas in a future version. Use pandas.concat instead.\n",
      "  _mcf.append(_pains, sort=True)['smarts'].values]\n"
     ]
    }
   ],
   "source": [
    "import moses"
   ]
  },
  {
   "cell_type": "code",
   "execution_count": 2,
   "metadata": {},
   "outputs": [],
   "source": [
    "train = moses.get_dataset('train')\n",
    "test = moses.get_dataset('test')\n",
    "test_scaffolds = moses.get_dataset('test_scaffolds')"
   ]
  },
  {
   "cell_type": "code",
   "execution_count": null,
   "metadata": {},
   "outputs": [],
   "source": [
    "from torch.utils.data import DataLoader\n",
    "from moses import CharVocab, StringDataset\n",
    "\n",
    "train = moses.get_dataset('train')\n",
    "vocab = CharVocab.from_data(train)\n",
    "train_dataset = StringDataset(vocab, train)\n",
    "train_dataloader = DataLoader(\n",
    "    train_dataset, batch_size=512,\n",
    "    shuffle=True, collate_fn=train_dataset.default_collate\n",
    ")"
   ]
  },
  {
   "cell_type": "code",
   "execution_count": 13,
   "metadata": {},
   "outputs": [
    {
     "name": "stdout",
     "output_type": "stream",
     "text": [
      "torch.Size([50, 512]) torch.Size([50, 512]) 512\n",
      "torch.Size([49, 512]) torch.Size([49, 512]) 512\n",
      "torch.Size([52, 512]) torch.Size([52, 512]) 512\n"
     ]
    }
   ],
   "source": [
    "for i, (with_bos, with_eos, lengths) in enumerate(train_dataloader):\n",
    "    print(with_bos.shape, with_eos.shape, len(lengths))\n",
    "    if i == 2:\n",
    "        break"
   ]
  },
  {
   "cell_type": "code",
   "execution_count": 5,
   "metadata": {},
   "outputs": [
    {
     "data": {
      "text/plain": [
       "(numpy.ndarray,\n",
       " moses.utils.CharVocab,\n",
       " moses.utils.StringDataset,\n",
       " torch.utils.data.dataloader.DataLoader)"
      ]
     },
     "execution_count": 5,
     "metadata": {},
     "output_type": "execute_result"
    }
   ],
   "source": [
    "type(train), type(vocab), type(train_dataset), type(train_dataloader)"
   ]
  },
  {
   "cell_type": "code",
   "execution_count": 8,
   "metadata": {},
   "outputs": [
    {
     "data": {
      "text/plain": [
       "(1584663,)"
      ]
     },
     "execution_count": 8,
     "metadata": {},
     "output_type": "execute_result"
    }
   ],
   "source": [
    "train.shape"
   ]
  },
  {
   "cell_type": "code",
   "execution_count": null,
   "metadata": {},
   "outputs": [],
   "source": [
    "from torch.utils.data import DataLoader\n",
    "from moses import CharVocab, StringDataset\n",
    "\n",
    "train = moses.get_dataset('train')\n",
    "vocab = CharVocab.from_data(train)\n",
    "train_dataset = StringDataset(vocab, train)\n",
    "train_dataloader = DataLoader(\n",
    "    train_dataset, batch_size=512,\n",
    "    shuffle=True, collate_fn=train_dataset.default_collate\n",
    ")\n",
    "\n",
    "for with_bos, with_eos, lengths in train_dataloader:\n",
    "    ..."
   ]
  },
  {
   "cell_type": "code",
   "execution_count": 2,
   "metadata": {},
   "outputs": [],
   "source": [
    "from envs import molecular_metrics as mm"
   ]
  },
  {
   "cell_type": "code",
   "execution_count": 37,
   "metadata": {},
   "outputs": [
    {
     "data": {
      "text/plain": [
       "1.5149307387756714"
      ]
     },
     "execution_count": 37,
     "metadata": {},
     "output_type": "execute_result"
    }
   ],
   "source": [
    "mm.MolecularMetrics._compute_SAS(mol)"
   ]
  },
  {
   "cell_type": "code",
   "execution_count": 39,
   "metadata": {},
   "outputs": [
    {
     "name": "stdout",
     "output_type": "stream",
     "text": [
      "SA Score для CC(=O)O: 1.5149307387756714\n"
     ]
    }
   ],
   "source": [
    "from rdkit import Chem\n",
    "from sascorer import calculateScore\n",
    "\n",
    "smiles = \"CC(=O)O\"\n",
    "mol = Chem.MolFromSmiles(smiles)\n",
    "sa_score = calculateScore(mol)\n",
    "print(f\"SA Score для {smiles}: {sa_score}\")"
   ]
  },
  {
   "cell_type": "code",
   "execution_count": 9,
   "metadata": {},
   "outputs": [
    {
     "data": {
      "text/plain": [
       "<rdkit.Chem.rdchem.Mol at 0x21c8a07cf90>"
      ]
     },
     "execution_count": 9,
     "metadata": {},
     "output_type": "execute_result"
    }
   ],
   "source": [
    "valid_mol(mol)"
   ]
  },
  {
   "cell_type": "code",
   "execution_count": 7,
   "metadata": {},
   "outputs": [
    {
     "name": "stdout",
     "output_type": "stream",
     "text": [
      "c1ccccc1\n"
     ]
    }
   ],
   "source": [
    "mol = Chem.MolFromSmiles('C1=CC=CC=C1')\n",
    "sml = Chem.MolToSmiles(mol)\n",
    "print(sml)"
   ]
  },
  {
   "cell_type": "code",
   "execution_count": null,
   "metadata": {},
   "outputs": [],
   "source": [
    "from rdkit import Chem\n",
    "from rdkit.Chem import Draw\n",
    "\n",
    "# Пример SMILES\n",
    "smiles = 'CC(=O)O'  # бензол\n",
    "\n",
    "# Создание молекулы из SMILES\n",
    "mol = Chem.MolFromSmiles(smiles)\n",
    "\n",
    "# Рисование молекулы и сохранение изображения\n",
    "img = Draw.MolToFile(mol, 'molecule.png')\n"
   ]
  }
 ],
 "metadata": {
  "kernelspec": {
   "display_name": "cuda_ml39",
   "language": "python",
   "name": "python3"
  },
  "language_info": {
   "codemirror_mode": {
    "name": "ipython",
    "version": 3
   },
   "file_extension": ".py",
   "mimetype": "text/x-python",
   "name": "python",
   "nbconvert_exporter": "python",
   "pygments_lexer": "ipython3",
   "version": "3.9.21"
  }
 },
 "nbformat": 4,
 "nbformat_minor": 2
}
