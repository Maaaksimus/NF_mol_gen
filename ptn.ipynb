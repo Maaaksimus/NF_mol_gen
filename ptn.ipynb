{
 "cells": [
  {
   "cell_type": "code",
   "execution_count": 1,
   "metadata": {},
   "outputs": [],
   "source": [
    "from rdkit import Chem\n",
    "from rdkit.Chem import Draw"
   ]
  },
  {
   "cell_type": "code",
   "execution_count": 1,
   "metadata": {},
   "outputs": [],
   "source": [
    "import numpy as np"
   ]
  },
  {
   "cell_type": "code",
   "execution_count": 18,
   "metadata": {},
   "outputs": [
    {
     "data": {
      "text/plain": [
       "-9.8"
      ]
     },
     "execution_count": 18,
     "metadata": {},
     "output_type": "execute_result"
    }
   ],
   "source": [
    "ds = np.load('docking_scores.npy', allow_pickle=True)\n",
    "ds[ds != 0][797:798].min()"
   ]
  },
  {
   "cell_type": "markdown",
   "metadata": {},
   "source": [
    "У train №797 DS -9.8"
   ]
  },
  {
   "cell_type": "code",
   "execution_count": 2,
   "metadata": {},
   "outputs": [
    {
     "name": "stdout",
     "output_type": "stream",
     "text": [
      "Nodes done\n",
      "Bonds done\n"
     ]
    }
   ],
   "source": [
    "X = np.load('./data_preprocessed/zinc250k/node_features.npy')\n",
    "print('Nodes done')\n",
    "A = np.load('./data_preprocessed/zinc250k/adj_features.npy')\n",
    "print('Bonds done')"
   ]
  },
  {
   "cell_type": "code",
   "execution_count": 16,
   "metadata": {},
   "outputs": [],
   "source": [
    "mol_sizes = np.load('./data_preprocessed/zinc1500k/mol_sizes.npy')"
   ]
  },
  {
   "cell_type": "code",
   "execution_count": 17,
   "metadata": {},
   "outputs": [
    {
     "data": {
      "text/plain": [
       "27"
      ]
     },
     "execution_count": 17,
     "metadata": {},
     "output_type": "execute_result"
    }
   ],
   "source": [
    "max(mol_sizes)"
   ]
  },
  {
   "cell_type": "code",
   "execution_count": 4,
   "metadata": {},
   "outputs": [],
   "source": [
    "import time"
   ]
  },
  {
   "cell_type": "code",
   "execution_count": 1,
   "metadata": {},
   "outputs": [],
   "source": [
    "import os\n",
    "current_dir = os.getcwd()  # Текущая рабочая директория\n",
    "parent_dir = os.path.dirname(current_dir)\n",
    "file_path = os.path.join(parent_dir, 'title.txt')"
   ]
  },
  {
   "cell_type": "code",
   "execution_count": 3,
   "metadata": {},
   "outputs": [
    {
     "data": {
      "text/plain": [
       "('q:\\\\Учеба\\\\Универ\\\\6 курс\\\\Диплом\\\\NF_mol_gen',\n",
       " 'q:\\\\Учеба\\\\Универ\\\\6 курс\\\\Диплом',\n",
       " 'q:\\\\Учеба\\\\Универ\\\\6 курс\\\\Диплом\\\\title.txt')"
      ]
     },
     "execution_count": 3,
     "metadata": {},
     "output_type": "execute_result"
    }
   ],
   "source": [
    "current_dir, parent_dir, file_path"
   ]
  },
  {
   "cell_type": "code",
   "execution_count": 9,
   "metadata": {},
   "outputs": [],
   "source": [
    "from preprocess import Zinc_Processor"
   ]
  },
  {
   "cell_type": "code",
   "execution_count": 7,
   "metadata": {},
   "outputs": [
    {
     "name": "stdout",
     "output_type": "stream",
     "text": [
      "sl:  ['CC1CCC(C2=C1C=CC(=C2)C)C(C)CCC(=O)O']\n"
     ]
    },
    {
     "name": "stderr",
     "output_type": "stream",
     "text": [
      "100%|██████████| 1/1 [00:02<00:00,  3.00s/it]"
     ]
    },
    {
     "name": "stdout",
     "output_type": "stream",
     "text": [
      "total number of valid molecule in dataset: 1\n",
      "try to save\n",
      "./my_scripts\n",
      "saving node/adj feature...\n",
      "shape of node feature: (1, 50)\n",
      "shape of adj features: (1, 3, 50, 50)\n",
      "shape of mol sizes: (1,)\n",
      "save config\n",
      "saving config...\n",
      "{'atom_list': [6, 7, 8, 9, 15, 16, 17, 35, 53, 0], 'node_dim': 10, 'max_size': 50, 'bond_dim': 4}\n"
     ]
    },
    {
     "name": "stderr",
     "output_type": "stream",
     "text": [
      "\n"
     ]
    }
   ],
   "source": [
    "zp = Zinc_Processor('DMNP_read.txt', './my_scripts')"
   ]
  },
  {
   "cell_type": "code",
   "execution_count": 11,
   "metadata": {},
   "outputs": [
    {
     "data": {
      "text/plain": [
       "array([19])"
      ]
     },
     "execution_count": 11,
     "metadata": {},
     "output_type": "execute_result"
    }
   ],
   "source": [
    "np.load('./my_scripts/mol_sizes.npy')"
   ]
  },
  {
   "cell_type": "code",
   "execution_count": 8,
   "metadata": {},
   "outputs": [
    {
     "name": "stderr",
     "output_type": "stream",
     "text": [
      "<frozen importlib._bootstrap>:241: RuntimeWarning: to-Python converter for class boost::shared_ptr<class RDKit::FilterHierarchyMatcher> already registered; second conversion method ignored.\n",
      "<frozen importlib._bootstrap>:241: RuntimeWarning: to-Python converter for class boost::shared_ptr<class RDKit::FilterCatalogEntry> already registered; second conversion method ignored.\n"
     ]
    }
   ],
   "source": [
    "from utils import valid_mol"
   ]
  },
  {
   "cell_type": "code",
   "execution_count": 7,
   "metadata": {},
   "outputs": [],
   "source": [
    "import moses\n",
    "import pandas as pd"
   ]
  },
  {
   "cell_type": "code",
   "execution_count": 2,
   "metadata": {},
   "outputs": [],
   "source": [
    "train = moses.get_dataset('train')\n",
    "test = moses.get_dataset('test')\n",
    "test_scaffolds = moses.get_dataset('test_scaffolds')"
   ]
  },
  {
   "cell_type": "code",
   "execution_count": 2,
   "metadata": {},
   "outputs": [],
   "source": [
    "from torch.utils.data import DataLoader\n",
    "from moses import CharVocab, StringDataset\n",
    "\n",
    "train = moses.get_dataset('train')\n",
    "vocab = CharVocab.from_data(train)\n",
    "train_dataset = StringDataset(vocab, train)\n",
    "train_dataloader = DataLoader(\n",
    "    train_dataset, batch_size=512,\n",
    "    shuffle=True, collate_fn=train_dataset.default_collate\n",
    ")"
   ]
  },
  {
   "cell_type": "code",
   "execution_count": 9,
   "metadata": {},
   "outputs": [
    {
     "data": {
      "text/plain": [
       "0            CCCS(=O)c1ccc2[nH]c(=NC(=O)OC)[nH]c2c1\n",
       "1              CC(C)(C)C(=O)C(Oc1ccc(Cl)cc1)n1ccnc1\n",
       "2               Cc1c(Cl)cccc1Nc1ncccc1C(=O)OCC(O)CO\n",
       "3                  Cn1cnc2c1c(=O)n(CC(O)CO)c(=O)n2C\n",
       "4                    CC1Oc2ccc(Cl)cc2N(CC(O)CO)C1=O\n",
       "                             ...                   \n",
       "1584658                        N#Cc1c(Br)cnc(N)c1Br\n",
       "1584659          COC(=O)c1cc(CNC(=O)OC(C)(C)C)ccc1C\n",
       "1584660                      NC(=O)c1ccc2ccccc2c1Br\n",
       "1584661    CC(=O)Nc1cccc(-c2nc3cc(C)ccc3[nH]c2=O)c1\n",
       "1584662     CC(NC(=O)OC(C)(C)C)c1nc(CO)nn1Cc1ccccc1\n",
       "Length: 1584663, dtype: object"
      ]
     },
     "execution_count": 9,
     "metadata": {},
     "output_type": "execute_result"
    }
   ],
   "source": [
    "pd.Series(train)#.to_csv('zinc1500K.smi', index=False)"
   ]
  },
  {
   "cell_type": "code",
   "execution_count": 13,
   "metadata": {},
   "outputs": [
    {
     "name": "stdout",
     "output_type": "stream",
     "text": [
      "torch.Size([50, 512]) torch.Size([50, 512]) 512\n",
      "torch.Size([49, 512]) torch.Size([49, 512]) 512\n",
      "torch.Size([52, 512]) torch.Size([52, 512]) 512\n"
     ]
    }
   ],
   "source": [
    "for i, (with_bos, with_eos, lengths) in enumerate(train_dataloader):\n",
    "    print(with_bos.shape, with_eos.shape, len(lengths))\n",
    "    if i == 2:\n",
    "        break"
   ]
  },
  {
   "cell_type": "code",
   "execution_count": 5,
   "metadata": {},
   "outputs": [
    {
     "data": {
      "text/plain": [
       "(numpy.ndarray,\n",
       " moses.utils.CharVocab,\n",
       " moses.utils.StringDataset,\n",
       " torch.utils.data.dataloader.DataLoader)"
      ]
     },
     "execution_count": 5,
     "metadata": {},
     "output_type": "execute_result"
    }
   ],
   "source": [
    "type(train), type(vocab), type(train_dataset), type(train_dataloader)"
   ]
  },
  {
   "cell_type": "code",
   "execution_count": 8,
   "metadata": {},
   "outputs": [
    {
     "data": {
      "text/plain": [
       "(1584663,)"
      ]
     },
     "execution_count": 8,
     "metadata": {},
     "output_type": "execute_result"
    }
   ],
   "source": [
    "train.shape"
   ]
  },
  {
   "cell_type": "code",
   "execution_count": null,
   "metadata": {},
   "outputs": [],
   "source": [
    "from torch.utils.data import DataLoader\n",
    "from moses import CharVocab, StringDataset\n",
    "\n",
    "train = moses.get_dataset('train')\n",
    "vocab = CharVocab.from_data(train)\n",
    "train_dataset = StringDataset(vocab, train)\n",
    "train_dataloader = DataLoader(\n",
    "    train_dataset, batch_size=512,\n",
    "    shuffle=True, collate_fn=train_dataset.default_collate\n",
    ")\n",
    "\n",
    "for with_bos, with_eos, lengths in train_dataloader:\n",
    "    ..."
   ]
  },
  {
   "cell_type": "code",
   "execution_count": 2,
   "metadata": {},
   "outputs": [],
   "source": [
    "from envs import molecular_metrics as mm"
   ]
  },
  {
   "cell_type": "code",
   "execution_count": 37,
   "metadata": {},
   "outputs": [
    {
     "data": {
      "text/plain": [
       "1.5149307387756714"
      ]
     },
     "execution_count": 37,
     "metadata": {},
     "output_type": "execute_result"
    }
   ],
   "source": [
    "mm.MolecularMetrics._compute_SAS(mol)"
   ]
  },
  {
   "cell_type": "code",
   "execution_count": 6,
   "metadata": {},
   "outputs": [
    {
     "data": {
      "text/plain": [
       "'Cc1c(NC(=O)CSc2nc3sc4c(c3c(=O)[nH]2)CCCC4)c(=O)n(-c2ccccc2)n1C'"
      ]
     },
     "execution_count": 6,
     "metadata": {},
     "output_type": "execute_result"
    }
   ],
   "source": [
    "smiles_list[18]"
   ]
  },
  {
   "cell_type": "code",
   "execution_count": 10,
   "metadata": {},
   "outputs": [
    {
     "name": "stdout",
     "output_type": "stream",
     "text": [
      "SA Score для CC1CCC(C2=C1C=CC(=C2)C)C(C)CCC(=O)O: 3.3559737244164882\n",
      "SA Score для Cc1c(NC(=O)CSc2nc3sc4c(c3c(=O)[nH]2)CCCC4)c(=O)n(-c2ccccc2)n1C: 2.62217770660925\n"
     ]
    }
   ],
   "source": [
    "from rdkit import Chem\n",
    "from envs.sascorer import calculateScore\n",
    "\n",
    "smiles1 = \"CC1CCC(C2=C1C=CC(=C2)C)C(C)CCC(=O)O\"\n",
    "mol1 = Chem.MolFromSmiles(smiles1)\n",
    "sa_score1 = calculateScore(mol1)\n",
    "print(f\"SA Score для {smiles1}: {sa_score1}\")\n",
    "\n",
    "smiles2 = \"Cc1c(NC(=O)CSc2nc3sc4c(c3c(=O)[nH]2)CCCC4)c(=O)n(-c2ccccc2)n1C\"\n",
    "mol2 = Chem.MolFromSmiles(smiles2)\n",
    "sa_score2 = calculateScore(mol2)\n",
    "print(f\"SA Score для {smiles2}: {sa_score2}\")"
   ]
  },
  {
   "cell_type": "code",
   "execution_count": 15,
   "metadata": {},
   "outputs": [
    {
     "name": "stdout",
     "output_type": "stream",
     "text": [
      "Танимото схожесть: 0.13178294573643412\n"
     ]
    }
   ],
   "source": [
    "from rdkit import Chem, DataStructs\n",
    "from rdkit.Chem import AllChem\n",
    "import rdkit\n",
    "import rdkit.Chem\n",
    "\n",
    "fp1 = AllChem.GetMorganFingerprint(mol1, 2)\n",
    "fp2 = AllChem.GetMorganFingerprint(mol2, 2)\n",
    "\n",
    "sim = DataStructs.TanimotoSimilarity(fp1, fp2)\n",
    "print('Танимото схожесть: {}'.format(sim))"
   ]
  },
  {
   "cell_type": "code",
   "execution_count": 5,
   "metadata": {},
   "outputs": [],
   "source": [
    "fp = open('./dataset/zinc250k/zinc250k.smi', 'r')\n",
    "smiles_list = [smiles.strip() for smiles in fp]"
   ]
  },
  {
   "cell_type": "code",
   "execution_count": 9,
   "metadata": {},
   "outputs": [
    {
     "data": {
      "text/plain": [
       "<rdkit.Chem.rdchem.Mol at 0x21c8a07cf90>"
      ]
     },
     "execution_count": 9,
     "metadata": {},
     "output_type": "execute_result"
    }
   ],
   "source": [
    "valid_mol(mol)"
   ]
  },
  {
   "cell_type": "code",
   "execution_count": 7,
   "metadata": {},
   "outputs": [
    {
     "name": "stdout",
     "output_type": "stream",
     "text": [
      "c1ccccc1\n"
     ]
    }
   ],
   "source": [
    "mol = Chem.MolFromSmiles('C1=CC=CC=C1')\n",
    "sml = Chem.MolToSmiles(mol)\n",
    "print(sml)"
   ]
  },
  {
   "cell_type": "code",
   "execution_count": null,
   "metadata": {},
   "outputs": [],
   "source": [
    "from rdkit import Chem\n",
    "from rdkit.Chem import Draw\n",
    "\n",
    "# Пример SMILES\n",
    "smiles = 'CC(=O)O'  # бензол\n",
    "\n",
    "# Создание молекулы из SMILES\n",
    "mol = Chem.MolFromSmiles(smiles)\n",
    "\n",
    "# Рисование молекулы и сохранение изображения\n",
    "img = Draw.MolToFile(mol, 'molecule.png')\n"
   ]
  }
 ],
 "metadata": {
  "kernelspec": {
   "display_name": "cuda_ml39",
   "language": "python",
   "name": "python3"
  },
  "language_info": {
   "codemirror_mode": {
    "name": "ipython",
    "version": 3
   },
   "file_extension": ".py",
   "mimetype": "text/x-python",
   "name": "python",
   "nbconvert_exporter": "python",
   "pygments_lexer": "ipython3",
   "version": "3.9.21"
  }
 },
 "nbformat": 4,
 "nbformat_minor": 2
}
