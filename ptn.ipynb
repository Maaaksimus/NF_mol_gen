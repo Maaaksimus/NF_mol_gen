{
 "cells": [
  {
   "cell_type": "code",
   "execution_count": 3,
   "metadata": {},
   "outputs": [],
   "source": [
    "from rdkit import Chem, DataStructs\n",
    "from rdkit.Chem import AllChem\n",
    "from rdkit.Chem import Draw\n",
    "from rdkit.Chem import rdMolDescriptors\n",
    "from rdkit import RDLogger\n",
    "from envs.sascorer import calculateScore"
   ]
  },
  {
   "cell_type": "code",
   "execution_count": 2,
   "metadata": {},
   "outputs": [],
   "source": [
    "import numpy as np\n",
    "import os\n",
    "import pandas as pd\n",
    "from sklearn.model_selection import train_test_split\n",
    "import json\n",
    "from tqdm import tqdm\n",
    "import re\n",
    "from datetime import datetime"
   ]
  },
  {
   "cell_type": "code",
   "execution_count": 4,
   "metadata": {},
   "outputs": [
    {
     "name": "stderr",
     "output_type": "stream",
     "text": [
      "[21:27:06] DEPRECATION WARNING: please use MorganGenerator\n"
     ]
    },
    {
     "data": {
      "text/plain": [
       "3.3559737244164882"
      ]
     },
     "execution_count": 4,
     "metadata": {},
     "output_type": "execute_result"
    }
   ],
   "source": [
    "dmnp_smiles = 'CC1CCC(C2=C1C=CC(=C2)C)C(C)CCC(=O)O'\n",
    "calculateScore(Chem.MolFromSmiles(dmnp_smiles))"
   ]
  },
  {
   "cell_type": "code",
   "execution_count": 33,
   "metadata": {},
   "outputs": [
    {
     "name": "stdout",
     "output_type": "stream",
     "text": [
      "Загрузка из  ./docking/DS_data/0k/\n",
      "['docking_scores_0-999.npy', 'docking_scores_1000-1999.npy', 'docking_scores_2000-2999.npy', 'docking_scores_3000-3999.npy', 'docking_scores_4000-4999.npy', 'docking_scores_5000-5999.npy', 'docking_scores_6000-6999.npy', 'docking_scores_7000-7999.npy', 'docking_scores_8000-8999.npy', 'docking_scores_9000-9999.npy', 'docking_scores_10000-10999.npy', 'docking_scores_11000-11999.npy', 'docking_scores_12000-12999.npy', 'docking_scores_13000-13999.npy', 'docking_scores_14000-14999.npy', 'docking_scores_15000-15999.npy', 'docking_scores_16000-16999.npy', 'docking_scores_17000-17999.npy', 'docking_scores_18000-18999.npy', 'docking_scores_19000-19999.npy', 'docking_scores_20000-20999.npy', 'docking_scores_21000-21999.npy', 'docking_scores_22000-22999.npy', 'docking_scores_23000-23999.npy', 'docking_scores_24000-24999.npy']\n",
      "Загрузка из  ./docking/DS_data/25k/\n",
      "['docking_scores_25000-25999.npy', 'docking_scores_26000-26999.npy', 'docking_scores_27000-27999.npy', 'docking_scores_28000-28999.npy', 'docking_scores_29000-29999.npy', 'docking_scores_30000-30999.npy', 'docking_scores_31000-31999.npy', 'docking_scores_32000-32999.npy', 'docking_scores_33000-33999.npy', 'docking_scores_34000-34999.npy', 'docking_scores_35000-35999.npy', 'docking_scores_36000-36999.npy', 'docking_scores_37000-37999.npy', 'docking_scores_38000-38999.npy', 'docking_scores_39000-39999.npy', 'docking_scores_40000-40999.npy', 'docking_scores_41000-41999.npy', 'docking_scores_42000-42999.npy', 'docking_scores_43000-43999.npy', 'docking_scores_44000-44999.npy', 'docking_scores_45000-45999.npy', 'docking_scores_46000-46999.npy', 'docking_scores_47000-47999.npy', 'docking_scores_48000-48999.npy', 'docking_scores_49000-49999.npy']\n",
      "Загрузка из  ./docking/DS_data/50k/\n",
      "['docking_scores_50000-50999.npy', 'docking_scores_51000-51999.npy', 'docking_scores_52000-52999.npy', 'docking_scores_53000-53999.npy', 'docking_scores_54000-54999.npy', 'docking_scores_55000-55999.npy', 'docking_scores_56000-56999.npy', 'docking_scores_57000-57999.npy', 'docking_scores_58000-58999.npy', 'docking_scores_59000-59999.npy', 'docking_scores_60000-60999.npy', 'docking_scores_61000-61999.npy', 'docking_scores_62000-62999.npy', 'docking_scores_63000-63999.npy', 'docking_scores_64000-64999.npy', 'docking_scores_65000-65999.npy', 'docking_scores_66000-66999.npy', 'docking_scores_67000-67999.npy', 'docking_scores_68000-68999.npy', 'docking_scores_69000-69999.npy', 'docking_scores_70000-70999.npy', 'docking_scores_71000-71999.npy', 'docking_scores_72000-72999.npy', 'docking_scores_73000-73999.npy', 'docking_scores_74000-74999.npy']\n",
      "Загрузка из  ./docking/DS_data/75k/\n",
      "['docking_scores_75000-75999.npy', 'docking_scores_76000-76999.npy', 'docking_scores_77000-77999.npy', 'docking_scores_78000-78999.npy', 'docking_scores_79000-79999.npy', 'docking_scores_80000-80999.npy', 'docking_scores_81000-81999.npy', 'docking_scores_82000-82999.npy', 'docking_scores_83000-83999.npy', 'docking_scores_84000-84999.npy', 'docking_scores_85000-85999.npy', 'docking_scores_86000-86999.npy', 'docking_scores_87000-87999.npy', 'docking_scores_88000-88999.npy', 'docking_scores_89000-89999.npy', 'docking_scores_90000-90999.npy', 'docking_scores_91000-91999.npy', 'docking_scores_92000-92999.npy', 'docking_scores_93000-93999.npy', 'docking_scores_94000-94999.npy', 'docking_scores_95000-95999.npy', 'docking_scores_96000-96999.npy', 'docking_scores_97000-97999.npy', 'docking_scores_98000-98999.npy', 'docking_scores_99000-99999.npy']\n",
      "Загрузка из  ./docking/DS_data/100k/\n",
      "['docking_scores_100000-100999.npy', 'docking_scores_101000-101999.npy', 'docking_scores_102000-102999.npy', 'docking_scores_103000-103999.npy', 'docking_scores_104000-104999.npy', 'docking_scores_105000-105999.npy', 'docking_scores_106000-106999.npy', 'docking_scores_107000-107999.npy', 'docking_scores_108000-108999.npy', 'docking_scores_109000-109999.npy', 'docking_scores_110000-110999.npy', 'docking_scores_111000-111999.npy', 'docking_scores_112000-112999.npy', 'docking_scores_113000-113999.npy', 'docking_scores_114000-114999.npy', 'docking_scores_115000-115999.npy', 'docking_scores_116000-116999.npy', 'docking_scores_117000-117999.npy', 'docking_scores_118000-118999.npy', 'docking_scores_119000-119999.npy', 'docking_scores_120000-120999.npy', 'docking_scores_121000-121999.npy', 'docking_scores_122000-122999.npy', 'docking_scores_123000-123999.npy', 'docking_scores_124000-124999.npy']\n",
      "Загрузка из  ./docking/DS_data/125k/\n",
      "['docking_scores_125000-125999.npy', 'docking_scores_126000-126999.npy', 'docking_scores_127000-127999.npy', 'docking_scores_128000-128999.npy', 'docking_scores_129000-129999.npy', 'docking_scores_130000-130999.npy', 'docking_scores_131000-131999.npy', 'docking_scores_132000-132999.npy', 'docking_scores_133000-133999.npy', 'docking_scores_134000-134999.npy', 'docking_scores_135000-135999.npy', 'docking_scores_136000-136999.npy', 'docking_scores_137000-137999.npy', 'docking_scores_138000-138999.npy', 'docking_scores_139000-139999.npy', 'docking_scores_140000-140999.npy', 'docking_scores_141000-141999.npy', 'docking_scores_142000-142999.npy', 'docking_scores_143000-143999.npy', 'docking_scores_144000-144999.npy', 'docking_scores_145000-145999.npy', 'docking_scores_146000-146999.npy', 'docking_scores_147000-147999.npy', 'docking_scores_148000-148999.npy', 'docking_scores_149000-149999.npy']\n",
      "Загрузка из  ./docking/DS_data/150k/\n",
      "['docking_scores_150000-150999.npy', 'docking_scores_151000-151999.npy', 'docking_scores_152000-152999.npy', 'docking_scores_153000-153999.npy', 'docking_scores_154000-154999.npy', 'docking_scores_155000-155999.npy', 'docking_scores_156000-156999.npy', 'docking_scores_157000-157999.npy', 'docking_scores_158000-158999.npy', 'docking_scores_159000-159999.npy', 'docking_scores_160000-160999.npy', 'docking_scores_161000-161999.npy', 'docking_scores_162000-162999.npy', 'docking_scores_163000-163999.npy', 'docking_scores_164000-164999.npy', 'docking_scores_165000-165999.npy', 'docking_scores_166000-166999.npy', 'docking_scores_167000-167999.npy', 'docking_scores_168000-168999.npy', 'docking_scores_169000-169999.npy', 'docking_scores_170000-170999.npy', 'docking_scores_171000-171999.npy', 'docking_scores_172000-172999.npy', 'docking_scores_173000-173999.npy', 'docking_scores_174000-174999.npy']\n"
     ]
    },
    {
     "name": "stdout",
     "output_type": "stream",
     "text": [
      "Загрузка из  ./docking/DS_data/175k/\n",
      "['docking_scores_175000-175999.npy', 'docking_scores_176000-176999.npy', 'docking_scores_177000-177999.npy', 'docking_scores_178000-178999.npy', 'docking_scores_179000-179999.npy', 'docking_scores_180000-180999.npy', 'docking_scores_181000-181999.npy', 'docking_scores_182000-182999.npy', 'docking_scores_183000-183999.npy', 'docking_scores_184000-184999.npy', 'docking_scores_185000-185999.npy', 'docking_scores_186000-186999.npy', 'docking_scores_187000-187999.npy', 'docking_scores_188000-188999.npy', 'docking_scores_189000-189999.npy', 'docking_scores_190000-190999.npy', 'docking_scores_191000-191999.npy', 'docking_scores_192000-192999.npy', 'docking_scores_193000-193999.npy', 'docking_scores_194000-194999.npy', 'docking_scores_195000-195999.npy', 'docking_scores_196000-196999.npy', 'docking_scores_197000-197999.npy', 'docking_scores_198000-198999.npy', 'docking_scores_199000-199999.npy']\n",
      "Загрузка из  ./docking/DS_data/200k/\n",
      "['docking_scores_200000-200999.npy', 'docking_scores_201000-201999.npy', 'docking_scores_202000-202999.npy', 'docking_scores_203000-203999.npy', 'docking_scores_204000-204999.npy', 'docking_scores_205000-205999.npy', 'docking_scores_206000-206999.npy', 'docking_scores_207000-207999.npy', 'docking_scores_208000-208999.npy', 'docking_scores_209000-209999.npy', 'docking_scores_210000-210999.npy', 'docking_scores_211000-211999.npy', 'docking_scores_212000-212999.npy', 'docking_scores_213000-213999.npy', 'docking_scores_214000-214999.npy', 'docking_scores_215000-215999.npy', 'docking_scores_216000-216999.npy', 'docking_scores_217000-217999.npy', 'docking_scores_218000-218999.npy', 'docking_scores_219000-219999.npy', 'docking_scores_220000-220999.npy', 'docking_scores_221000-221999.npy', 'docking_scores_222000-222999.npy', 'docking_scores_223000-223999.npy', 'docking_scores_224000-224999.npy']\n",
      "Загрузка из  ./docking/DS_data/225k/\n",
      "['docking_scores_225000-225999.npy', 'docking_scores_226000-226999.npy', 'docking_scores_227000-227999.npy', 'docking_scores_228000-228999.npy', 'docking_scores_229000-229999.npy', 'docking_scores_230000-230999.npy', 'docking_scores_231000-231999.npy', 'docking_scores_232000-232999.npy', 'docking_scores_233000-233999.npy', 'docking_scores_234000-234999.npy', 'docking_scores_235000-235999.npy', 'docking_scores_236000-236999.npy', 'docking_scores_237000-237999.npy', 'docking_scores_238000-238999.npy', 'docking_scores_239000-239999.npy', 'docking_scores_240000-240999.npy', 'docking_scores_241000-241999.npy', 'docking_scores_242000-242999.npy', 'docking_scores_243000-243999.npy', 'docking_scores_244000-244999.npy', 'docking_scores_245000-245999.npy', 'docking_scores_246000-246999.npy', 'docking_scores_247000-247999.npy', 'docking_scores_248000-248999.npy', 'docking_scores_249000-249455.npy']\n",
      "Alarm:  docking_scores_249000-249455.npy\n"
     ]
    }
   ],
   "source": [
    "path = './docking/DS_data/'\n",
    "ds = np.empty(0, dtype=float)\n",
    "cnt = 0\n",
    "\n",
    "for i in range(10):\n",
    "    loc_path = path + f'{i * 25}k/'\n",
    "    print('Загрузка из ', loc_path)\n",
    "    files = sorted(os.listdir(loc_path), key=lambda x: int(re.findall(r'\\d+', x)[0]))\n",
    "    print(files)\n",
    "    if len(files) < 25:\n",
    "        print('Alarm: ', loc_path)\n",
    "    for file in files:\n",
    "        fl = re.findall(r'\\d+', file)\n",
    "        if int(fl[0]) // 1000 != cnt:\n",
    "            print('Miss in {} thousand'.format(cnt))\n",
    "            print(cnt, fl[0])\n",
    "        a_new = np.load(loc_path + file, allow_pickle=True)\n",
    "        ds = np.concat([ds, a_new])\n",
    "        if a_new.shape[0] != 1000:\n",
    "            print('Alarm: ', file)\n",
    "        cnt += 1\n",
    "\n",
    "ds.dump(path + 'docking_scores_all.npy')"
   ]
  },
  {
   "cell_type": "code",
   "execution_count": 39,
   "metadata": {},
   "outputs": [
    {
     "data": {
      "text/plain": [
       "(246162,)"
      ]
     },
     "execution_count": 39,
     "metadata": {},
     "output_type": "execute_result"
    }
   ],
   "source": [
    "ds[ds != 0].shape"
   ]
  },
  {
   "cell_type": "code",
   "execution_count": 34,
   "metadata": {},
   "outputs": [],
   "source": [
    "from envs.sascorer import calculateScore\n",
    "\n",
    "file_path = os.path.join('./dataset/zinc250k/zinc250k.smi')\n",
    "fp = open(file_path, 'r')\n",
    "smiles_list = [smiles.strip() for smiles in fp]\n",
    "\n",
    "sas = lambda sml: calculateScore(Chem.MolFromSmiles(sml))\n",
    "sas_vec = np.vectorize(sas)\n",
    "\n",
    "def tanimoto(sml):\n",
    "    \n",
    "    mol_dmnp = Chem.MolFromSmiles('CC1CCC(C2=C1C=CC(=C2)C)C(C)CCC(=O)O')\n",
    "    fp_dmnp = AllChem.GetMorganFingerprint(mol_dmnp, 2)\n",
    "\n",
    "    mol_sml = Chem.MolFromSmiles(sml)\n",
    "    fp_sml = AllChem.GetMorganFingerprint(mol_sml, 2) # здесь возможно возникает то самое предупреждение с MorganFingerprint\n",
    "    \n",
    "    return DataStructs.TanimotoSimilarity(fp_dmnp, fp_sml) # здесь вставить свой dist\n",
    "\n",
    "tanimoto_vec = np.vectorize(tanimoto)\n",
    "\n",
    "sa = sas_vec(smiles_list)\n",
    "td = tanimoto_vec(smiles_list)"
   ]
  },
  {
   "cell_type": "code",
   "execution_count": 35,
   "metadata": {},
   "outputs": [],
   "source": [
    "dset = pd.DataFrame({'SMILES': np.array(smiles_list), 'DS': ds, 'SA': sa, 'TD': td})"
   ]
  },
  {
   "cell_type": "code",
   "execution_count": 44,
   "metadata": {},
   "outputs": [],
   "source": [
    "dset_clear = dset.iloc[np.where(ds != 0)]"
   ]
  },
  {
   "cell_type": "code",
   "execution_count": 56,
   "metadata": {},
   "outputs": [],
   "source": [
    "dset_clear.to_csv(path + 'docking_dataset.csv', index=False)"
   ]
  },
  {
   "cell_type": "code",
   "execution_count": 74,
   "metadata": {},
   "outputs": [
    {
     "data": {
      "text/plain": [
       "np.float64(-7.371396478741642)"
      ]
     },
     "execution_count": 74,
     "metadata": {},
     "output_type": "execute_result"
    }
   ],
   "source": [
    "dset_clear['DS'].mean()"
   ]
  },
  {
   "cell_type": "code",
   "execution_count": 71,
   "metadata": {},
   "outputs": [
    {
     "data": {
      "text/plain": [
       "0   -8.6\n",
       "1   -8.3\n",
       "2   -8.9\n",
       "3   -8.3\n",
       "4   -7.0\n",
       "Name: DS, dtype: float64"
      ]
     },
     "execution_count": 71,
     "metadata": {},
     "output_type": "execute_result"
    }
   ],
   "source": [
    "dset_clear['DS'][:5]"
   ]
  },
  {
   "cell_type": "code",
   "execution_count": 77,
   "metadata": {},
   "outputs": [
    {
     "data": {
      "text/plain": [
       "(np.float64(55.9), np.float64(-14.4))"
      ]
     },
     "execution_count": 77,
     "metadata": {},
     "output_type": "execute_result"
    }
   ],
   "source": [
    "dset_clear['DS'].max(), dset_clear['DS'].min()"
   ]
  },
  {
   "cell_type": "code",
   "execution_count": 80,
   "metadata": {},
   "outputs": [
    {
     "data": {
      "text/plain": [
       "(np.float64(1.1327382804544328), np.float64(7.289282840617412))"
      ]
     },
     "execution_count": 80,
     "metadata": {},
     "output_type": "execute_result"
    }
   ],
   "source": [
    "dset_clear['SA'].min(), dset_clear['SA'].max()"
   ]
  },
  {
   "cell_type": "code",
   "execution_count": 105,
   "metadata": {},
   "outputs": [
    {
     "data": {
      "text/plain": [
       "(np.float64(0.830780685305625), np.float64(0.830780685305625))"
      ]
     },
     "execution_count": 105,
     "metadata": {},
     "output_type": "execute_result"
    }
   ],
   "source": [
    "(-dset_clear['SA']).std(), (dset_clear['SA']).std()"
   ]
  },
  {
   "cell_type": "code",
   "execution_count": 103,
   "metadata": {},
   "outputs": [
    {
     "data": {
      "text/plain": [
       "0         1.154338\n",
       "1        -0.468123\n",
       "2         0.689068\n",
       "3         0.265224\n",
       "4        -1.194161\n",
       "            ...   \n",
       "249451    0.171370\n",
       "249452    0.862405\n",
       "249453    1.447379\n",
       "249454    1.225905\n",
       "249455    0.997673\n",
       "Name: SA, Length: 246162, dtype: float64"
      ]
     },
     "execution_count": 103,
     "metadata": {},
     "output_type": "execute_result"
    }
   ],
   "source": [
    "(( -dset_clear['SA'] + dset_clear['SA'].mean()) / (-dset_clear['SA']).std())"
   ]
  },
  {
   "cell_type": "code",
   "execution_count": 98,
   "metadata": {},
   "outputs": [
    {
     "data": {
      "text/plain": [
       "1.820501705923089"
      ]
     },
     "execution_count": 98,
     "metadata": {},
     "output_type": "execute_result"
    }
   ],
   "source": [
    "calculateScore(Chem.MolFromSmiles('C1=CC=C2C(=C1)C=CC3=C2C=CC(=C3)C(=O)N4CCN(CC4)C5=CC=CC=C5'))"
   ]
  },
  {
   "cell_type": "code",
   "execution_count": 83,
   "metadata": {},
   "outputs": [],
   "source": [
    "with open('./data_preprocessed/zinc250k/idx.json', 'w') as f:\n",
    "    tr, tst = train_test_split(list(range(1,len(dset_clear))), test_size=0.1, random_state=42)\n",
    "    json.dump([tr, tst], f)"
   ]
  },
  {
   "cell_type": "code",
   "execution_count": 54,
   "metadata": {},
   "outputs": [
    {
     "data": {
      "text/plain": [
       "'r2_tr_2025-04-16_22-14-27'"
      ]
     },
     "execution_count": 54,
     "metadata": {},
     "output_type": "execute_result"
    }
   ],
   "source": [
    "dt = datetime.now()\n",
    "'r2_tr_{}_{:02d}-{:02d}-{:02d}'.format(dt.date(), dt.hour, dt.minute, dt.second)"
   ]
  },
  {
   "cell_type": "code",
   "execution_count": null,
   "metadata": {},
   "outputs": [],
   "source": [
    "type(Chem.MolFromSmiles('CCO'))"
   ]
  },
  {
   "cell_type": "code",
   "execution_count": 4,
   "metadata": {},
   "outputs": [],
   "source": [
    "moses = pd.read_csv('dataset_v1.csv')"
   ]
  },
  {
   "cell_type": "code",
   "execution_count": 5,
   "metadata": {},
   "outputs": [],
   "source": [
    "moses_smiles = moses['SMILES'].values.tolist()"
   ]
  },
  {
   "cell_type": "code",
   "execution_count": null,
   "metadata": {},
   "outputs": [],
   "source": [
    "moses_smiles"
   ]
  },
  {
   "cell_type": "code",
   "execution_count": null,
   "metadata": {},
   "outputs": [],
   "source": [
    "np.where(td > 0.3)"
   ]
  },
  {
   "cell_type": "code",
   "execution_count": null,
   "metadata": {},
   "outputs": [],
   "source": [
    "td2.shape"
   ]
  },
  {
   "cell_type": "markdown",
   "metadata": {},
   "source": []
  },
  {
   "cell_type": "code",
   "execution_count": null,
   "metadata": {},
   "outputs": [],
   "source": [
    "def tanimoto(sml):\n",
    "\n",
    "    # fp_gen = rdMolDescriptors.GetMorganGenerator(radius=2, nBits=2048)\n",
    "    \n",
    "    mol_dmnp = Chem.MolFromSmiles('CC1CCC(C2=C1C=CC(=C2)C)C(C)CCC(=O)O')\n",
    "    fp_dmnp = AllChem.GetMorganFingerprint(mol_dmnp, 2)\n",
    "    # fp_dmnp = fp_gen.GetFingerprint(mol_dmnp, 2)\n",
    "\n",
    "    mol_sml = Chem.MolFromSmiles(sml)\n",
    "    fp_sml = AllChem.GetMorganFingerprint(mol_sml, 2) # здесь возможно возникает то самое предупреждение с MorganFingerprint\n",
    "    # fp_sml = fp_gen.GetFingerprint(mol_sml, 2)\n",
    "    \n",
    "    return DataStructs.TanimotoSimilarity(fp_dmnp, fp_sml) # здесь вставить свой dist\n",
    "\n",
    "tanimoto_vec = np.vectorize(tanimoto)\n",
    "\n",
    "# td2 = tanimoto_vec(moses_smiles[:500000])"
   ]
  },
  {
   "cell_type": "code",
   "execution_count": 19,
   "metadata": {},
   "outputs": [
    {
     "name": "stderr",
     "output_type": "stream",
     "text": [
      "  0%|          | 0/149455 [00:00<?, ?it/s]"
     ]
    },
    {
     "name": "stderr",
     "output_type": "stream",
     "text": [
      "  0%|          | 142/149455 [00:00<03:56, 631.19it/s]"
     ]
    },
    {
     "name": "stdout",
     "output_type": "stream",
     "text": [
      "max_td: 0.1487603305785124, n: 0\n"
     ]
    },
    {
     "name": "stderr",
     "output_type": "stream",
     "text": [
      "  7%|▋         | 10170/149455 [00:12<02:49, 819.57it/s]"
     ]
    },
    {
     "name": "stdout",
     "output_type": "stream",
     "text": [
      "max_td: 0.39361702127659576, n: 0\n"
     ]
    },
    {
     "name": "stderr",
     "output_type": "stream",
     "text": [
      " 14%|█▎        | 20216/149455 [00:24<02:32, 849.90it/s]"
     ]
    },
    {
     "name": "stdout",
     "output_type": "stream",
     "text": [
      "max_td: 0.4777777777777778, n: 0\n"
     ]
    },
    {
     "name": "stderr",
     "output_type": "stream",
     "text": [
      " 20%|██        | 30148/149455 [00:36<02:23, 832.28it/s]"
     ]
    },
    {
     "name": "stdout",
     "output_type": "stream",
     "text": [
      "max_td: 0.4777777777777778, n: 0\n"
     ]
    },
    {
     "name": "stderr",
     "output_type": "stream",
     "text": [
      " 27%|██▋       | 40139/149455 [00:48<02:19, 785.67it/s]"
     ]
    },
    {
     "name": "stdout",
     "output_type": "stream",
     "text": [
      "max_td: 0.4777777777777778, n: 0\n"
     ]
    },
    {
     "name": "stderr",
     "output_type": "stream",
     "text": [
      " 34%|███▎      | 50209/149455 [01:01<02:02, 811.61it/s]"
     ]
    },
    {
     "name": "stdout",
     "output_type": "stream",
     "text": [
      "max_td: 0.4777777777777778, n: 0\n"
     ]
    },
    {
     "name": "stderr",
     "output_type": "stream",
     "text": [
      " 40%|████      | 60151/149455 [01:13<01:44, 856.53it/s]"
     ]
    },
    {
     "name": "stdout",
     "output_type": "stream",
     "text": [
      "max_td: 0.4777777777777778, n: 0\n"
     ]
    },
    {
     "name": "stderr",
     "output_type": "stream",
     "text": [
      " 47%|████▋     | 70172/149455 [01:25<01:34, 842.01it/s]"
     ]
    },
    {
     "name": "stdout",
     "output_type": "stream",
     "text": [
      "max_td: 0.4777777777777778, n: 0\n"
     ]
    },
    {
     "name": "stderr",
     "output_type": "stream",
     "text": [
      " 54%|█████▎    | 80088/149455 [01:38<01:32, 747.03it/s]"
     ]
    },
    {
     "name": "stdout",
     "output_type": "stream",
     "text": [
      "max_td: 0.4777777777777778, n: 0\n"
     ]
    },
    {
     "name": "stderr",
     "output_type": "stream",
     "text": [
      " 60%|██████    | 90137/149455 [01:51<01:09, 849.02it/s]"
     ]
    },
    {
     "name": "stdout",
     "output_type": "stream",
     "text": [
      "max_td: 0.6444444444444445, n: 1\n"
     ]
    },
    {
     "name": "stderr",
     "output_type": "stream",
     "text": [
      " 67%|██████▋   | 100184/149455 [02:03<00:57, 852.10it/s]"
     ]
    },
    {
     "name": "stdout",
     "output_type": "stream",
     "text": [
      "max_td: 0.6444444444444445, n: 1\n"
     ]
    },
    {
     "name": "stderr",
     "output_type": "stream",
     "text": [
      " 74%|███████▎  | 110195/149455 [02:15<00:47, 818.86it/s]"
     ]
    },
    {
     "name": "stdout",
     "output_type": "stream",
     "text": [
      "max_td: 0.6444444444444445, n: 1\n"
     ]
    },
    {
     "name": "stderr",
     "output_type": "stream",
     "text": [
      " 80%|████████  | 120150/149455 [02:28<00:37, 776.85it/s]"
     ]
    },
    {
     "name": "stdout",
     "output_type": "stream",
     "text": [
      "max_td: 0.6444444444444445, n: 1\n"
     ]
    },
    {
     "name": "stderr",
     "output_type": "stream",
     "text": [
      " 87%|████████▋ | 130178/149455 [02:40<00:24, 796.62it/s]"
     ]
    },
    {
     "name": "stdout",
     "output_type": "stream",
     "text": [
      "max_td: 0.6444444444444445, n: 1\n"
     ]
    },
    {
     "name": "stderr",
     "output_type": "stream",
     "text": [
      " 94%|█████████▍| 140168/149455 [02:53<00:11, 819.09it/s]"
     ]
    },
    {
     "name": "stdout",
     "output_type": "stream",
     "text": [
      "max_td: 0.6444444444444445, n: 2\n"
     ]
    },
    {
     "name": "stderr",
     "output_type": "stream",
     "text": [
      "100%|██████████| 149455/149455 [03:04<00:00, 809.15it/s]\n"
     ]
    }
   ],
   "source": [
    "max_td = 0\n",
    "n = 0\n",
    "\n",
    "rdLogger = RDLogger.logger()\n",
    "rdLogger.setLevel(RDLogger.ERROR)\n",
    "\n",
    "def tanimoto(sml):\n",
    "    \n",
    "    mol_dmnp = Chem.MolFromSmiles(smiles_list[100000])\n",
    "    fp_dmnp = AllChem.GetMorganFingerprint(mol_dmnp, 2)\n",
    "\n",
    "    mol_sml = Chem.MolFromSmiles(sml)\n",
    "    fp_sml = AllChem.GetMorganFingerprint(mol_sml, 2) # здесь возможно возникает то самое предупреждение с MorganFingerprint\n",
    "    \n",
    "    return DataStructs.TanimotoSimilarity(fp_dmnp, fp_sml)\n",
    "\n",
    "\n",
    "for i, smile in enumerate(tqdm(smiles_list[100001:])):\n",
    "    tan_di = tanimoto(smile)\n",
    "    if tan_di > max_td:\n",
    "        max_td = tan_di\n",
    "    if tan_di > 0.5:\n",
    "        n += 1\n",
    "    if i % 10000 == 0:\n",
    "        print('max_td: {}, n: {}'.format(max_td, n))"
   ]
  },
  {
   "cell_type": "code",
   "execution_count": null,
   "metadata": {},
   "outputs": [],
   "source": [
    "np.load('docking_scores_0-9.npy', allow_pickle=True)"
   ]
  },
  {
   "cell_type": "code",
   "execution_count": null,
   "metadata": {},
   "outputs": [],
   "source": [
    "ds = np.load('docking_scores.npy', allow_pickle=True)\n",
    "ds[ds != 0][797:798].min()"
   ]
  },
  {
   "cell_type": "markdown",
   "metadata": {},
   "source": [
    "У train №797 DS -9.8"
   ]
  },
  {
   "cell_type": "code",
   "execution_count": null,
   "metadata": {},
   "outputs": [],
   "source": [
    "X = np.load('./data_preprocessed/zinc250k/node_features.npy')\n",
    "print('Nodes done')\n",
    "A = np.load('./data_preprocessed/zinc250k/adj_features.npy')\n",
    "print('Bonds done')"
   ]
  },
  {
   "cell_type": "code",
   "execution_count": null,
   "metadata": {},
   "outputs": [],
   "source": [
    "mol_sizes = np.load('./data_preprocessed/zinc1500k/mol_sizes.npy')"
   ]
  },
  {
   "cell_type": "code",
   "execution_count": null,
   "metadata": {},
   "outputs": [],
   "source": [
    "DMNP_mol = Chem.MolFromPDBFile(\"./docking/294-BD_AD_receptor_ligand_140.988_160.730_-16.038/294-BD_AD_receptor_ligand_140.988_160.730_-16.038.pdb\")"
   ]
  },
  {
   "cell_type": "code",
   "execution_count": null,
   "metadata": {},
   "outputs": [],
   "source": [
    "DMNP_smiles = Chem.MolToSmiles(DMNP_mol)\n",
    "DMNP_smiles"
   ]
  },
  {
   "cell_type": "code",
   "execution_count": null,
   "metadata": {},
   "outputs": [],
   "source": [
    "import time"
   ]
  },
  {
   "cell_type": "code",
   "execution_count": null,
   "metadata": {},
   "outputs": [],
   "source": [
    "import os\n",
    "current_dir = os.getcwd()  # Текущая рабочая директория\n",
    "parent_dir = os.path.dirname(current_dir)\n",
    "file_path = os.path.join(parent_dir, 'title.txt')"
   ]
  },
  {
   "cell_type": "code",
   "execution_count": null,
   "metadata": {},
   "outputs": [],
   "source": [
    "current_dir, parent_dir, file_path"
   ]
  },
  {
   "cell_type": "code",
   "execution_count": null,
   "metadata": {},
   "outputs": [],
   "source": [
    "from rdkit import Chem\n",
    "from rdkit.Chem import AllChem\n",
    "import subprocess\n",
    "\n",
    "# protein = Chem.MolFromPDBFile(\"./docking/294-BD_AD_receptor_ligand_140.988_160.730_-16.038/receptor.pdb\")\n",
    "# Chem.MolToPDBFile(protein, \"receptor_rdkit.pdbqt\")\n",
    "\n",
    "def pdb_to_pdbqt_rdkit(input_pdb, output_pdbqt):\n",
    "    \"\"\"\n",
    "    Конвертирует PDB в PDBQT с помощью RDKit (подготовка) и Open Babel (финальная конвертация).\n",
    "    \n",
    "    Параметры:\n",
    "        input_pdb (str): Путь к входному PDB-файлу.\n",
    "        output_pdbqt (str): Путь для сохранения PDBQT-файла.\n",
    "    \"\"\"\n",
    "    # 1. Загрузка PDB в RDKit\n",
    "    print(1)\n",
    "    mol = Chem.MolFromPDBFile(input_pdb, removeHs=False)\n",
    "    if mol is None:\n",
    "        raise ValueError(\"Не удалось загрузить PDB-файл. Проверьте его целостность.\")\n",
    "\n",
    "    # 2. Добавление водородов (если их нет)\n",
    "    print(2)\n",
    "    mol = Chem.AddHs(mol, addCoords=True)\n",
    "\n",
    "    # 3. Оптимизация геометрии (MMFF94 или UFF)\n",
    "    print(3)\n",
    "    try:\n",
    "        AllChem.MMFFOptimizeMolecule(mol)  # MMFF94\n",
    "    except:\n",
    "        AllChem.UFFOptimizeMolecule(mol)  # Fallback на UFF\n",
    "\n",
    "    # 4. Сохраняем во временный PDB-файл (RDKit не поддерживает PDBQT)\n",
    "    print(4)\n",
    "    temp_pdb = \"temp_rdkit.pdb\"\n",
    "    Chem.MolToPDBFile(mol, temp_pdb)\n",
    "\n",
    "    # 5. Конвертируем PDB → PDBQT через Open Babel\n",
    "    print(5)\n",
    "    obabel_cmd = f\"obabel {temp_pdb} -O {output_pdbqt} -xh --partialcharge gasteiger\"\n",
    "    subprocess.run(obabel_cmd, shell=True, check=True)\n",
    "\n",
    "    print(f\"Файл сохранен: {output_pdbqt}\")\n",
    "\n",
    "# Пример использования\n",
    "# pdb_to_pdbqt_rdkit(\"input.pdb\", \"output.pdbqt\")"
   ]
  },
  {
   "cell_type": "code",
   "execution_count": null,
   "metadata": {},
   "outputs": [],
   "source": [
    "pdb_to_pdbqt_rdkit('./docking/294-BD_AD_receptor_ligand_140.988_160.730_-16.038/receptor.pdb', './docking/receptor_auto.pdbqt')"
   ]
  },
  {
   "cell_type": "code",
   "execution_count": null,
   "metadata": {},
   "outputs": [],
   "source": [
    "from preprocess import Zinc_Processor, SmilesPreprocessor"
   ]
  },
  {
   "cell_type": "code",
   "execution_count": null,
   "metadata": {},
   "outputs": [],
   "source": [
    "sp = SmilesPreprocessor(add_Hs=False, kekulize=True, max_atoms=38, max_size=40)\n",
    "x, A, sz, _ = sp.process('CC(C)(C)c1ccc2occ(CC(=O)Nc3ccccc3F)c2c1')"
   ]
  },
  {
   "cell_type": "code",
   "execution_count": null,
   "metadata": {},
   "outputs": [],
   "source": [
    "np.load('./docking/Марк/zinc_DS/2025-04-12_16-29-13/docking_scores_0-9.npy', allow_pickle=True)"
   ]
  },
  {
   "cell_type": "code",
   "execution_count": null,
   "metadata": {},
   "outputs": [],
   "source": [
    "zp = Zinc_Processor('DMNP_read.txt', './my_scripts')"
   ]
  },
  {
   "cell_type": "code",
   "execution_count": null,
   "metadata": {},
   "outputs": [],
   "source": [
    "np.concat([np.empty(0), np.load(path + file, allow_pickle=True)])"
   ]
  },
  {
   "cell_type": "code",
   "execution_count": null,
   "metadata": {},
   "outputs": [],
   "source": [
    "np.load('./docking/DS_data/25k/small/docking_scores_27630-27639.npy', allow_pickle=True)[:1000] == np.load('./docking/DS_data/25k/small/rdy/docking_scores_27000-27999.npy', allow_pickle=True)[630:640]"
   ]
  },
  {
   "cell_type": "code",
   "execution_count": null,
   "metadata": {},
   "outputs": [],
   "source": [
    "path = './docking/DS_data/25k/small/'\n",
    "files = sorted(os.listdir(path))\n",
    "a = np.empty(0, dtype=float)\n",
    "for i, file in enumerate(files):\n",
    "    a_new = np.load(path + file, allow_pickle=True)\n",
    "    a = np.concat([a, a_new])\n",
    "    if (i + 1) % 100 == 0:\n",
    "        file_name = f'docking_scores_{25000 + (i - 99) * 10}-{25000 + i * 10 + 9}.npy'\n",
    "        a.dump(path + 'rdy/' + file_name)\n",
    "        print('Size of ', file_name, ': ', a.shape[0])\n",
    "        a = np.empty(0)"
   ]
  },
  {
   "cell_type": "code",
   "execution_count": null,
   "metadata": {},
   "outputs": [],
   "source": [
    "for i in range(5):\n",
    "    with open('mse.txt', 'a') as f:\n",
    "        f.write(f'{i},')"
   ]
  },
  {
   "cell_type": "code",
   "execution_count": null,
   "metadata": {},
   "outputs": [],
   "source": [
    "from utils import valid_mol"
   ]
  },
  {
   "cell_type": "code",
   "execution_count": null,
   "metadata": {},
   "outputs": [],
   "source": [
    "import moses\n",
    "import pandas as pd"
   ]
  },
  {
   "cell_type": "code",
   "execution_count": null,
   "metadata": {},
   "outputs": [],
   "source": [
    "train = moses.get_dataset('train')\n",
    "test = moses.get_dataset('test')\n",
    "test_scaffolds = moses.get_dataset('test_scaffolds')"
   ]
  },
  {
   "cell_type": "code",
   "execution_count": null,
   "metadata": {},
   "outputs": [],
   "source": [
    "from torch.utils.data import DataLoader\n",
    "from moses import CharVocab, StringDataset\n",
    "\n",
    "train = moses.get_dataset('train')\n",
    "vocab = CharVocab.from_data(train)\n",
    "train_dataset = StringDataset(vocab, train)\n",
    "train_dataloader = DataLoader(\n",
    "    train_dataset, batch_size=512,\n",
    "    shuffle=True, collate_fn=train_dataset.default_collate\n",
    ")"
   ]
  },
  {
   "cell_type": "code",
   "execution_count": null,
   "metadata": {},
   "outputs": [],
   "source": [
    "pd.Series(train)#.to_csv('zinc1500K.smi', index=False)"
   ]
  },
  {
   "cell_type": "code",
   "execution_count": null,
   "metadata": {},
   "outputs": [],
   "source": [
    "for i, (with_bos, with_eos, lengths) in enumerate(train_dataloader):\n",
    "    print(with_bos.shape, with_eos.shape, len(lengths))\n",
    "    if i == 2:\n",
    "        break"
   ]
  },
  {
   "cell_type": "code",
   "execution_count": null,
   "metadata": {},
   "outputs": [],
   "source": [
    "type(train), type(vocab), type(train_dataset), type(train_dataloader)"
   ]
  },
  {
   "cell_type": "code",
   "execution_count": null,
   "metadata": {},
   "outputs": [],
   "source": [
    "train.shape"
   ]
  },
  {
   "cell_type": "code",
   "execution_count": null,
   "metadata": {},
   "outputs": [],
   "source": [
    "from torch.utils.data import DataLoader\n",
    "from moses import CharVocab, StringDataset\n",
    "\n",
    "train = moses.get_dataset('train')\n",
    "vocab = CharVocab.from_data(train)\n",
    "train_dataset = StringDataset(vocab, train)\n",
    "train_dataloader = DataLoader(\n",
    "    train_dataset, batch_size=512,\n",
    "    shuffle=True, collate_fn=train_dataset.default_collate\n",
    ")\n",
    "\n",
    "for with_bos, with_eos, lengths in train_dataloader:\n",
    "    ..."
   ]
  },
  {
   "cell_type": "code",
   "execution_count": null,
   "metadata": {},
   "outputs": [],
   "source": [
    "from envs import molecular_metrics as mm"
   ]
  },
  {
   "cell_type": "code",
   "execution_count": null,
   "metadata": {},
   "outputs": [],
   "source": [
    "mm.MolecularMetrics._compute_SAS(mol)"
   ]
  },
  {
   "cell_type": "code",
   "execution_count": null,
   "metadata": {},
   "outputs": [],
   "source": [
    "smiles_list[18]"
   ]
  },
  {
   "cell_type": "code",
   "execution_count": null,
   "metadata": {},
   "outputs": [],
   "source": [
    "from rdkit import Chem\n",
    "from envs.sascorer import calculateScore\n",
    "\n",
    "smiles1 = \"CC1CCC(C2=C1C=CC(=C2)C)C(C)CCC(=O)O\"\n",
    "mol1 = Chem.MolFromSmiles(smiles1)\n",
    "sa_score1 = calculateScore(mol1)\n",
    "print(f\"SA Score для {smiles1}: {sa_score1}\")\n",
    "\n",
    "smiles2 = \"Cc1c(NC(=O)CSc2nc3sc4c(c3c(=O)[nH]2)CCCC4)c(=O)n(-c2ccccc2)n1C\"\n",
    "mol2 = Chem.MolFromSmiles(smiles2)\n",
    "sa_score2 = calculateScore(mol2)\n",
    "print(f\"SA Score для {smiles2}: {sa_score2}\")"
   ]
  },
  {
   "cell_type": "code",
   "execution_count": null,
   "metadata": {},
   "outputs": [],
   "source": [
    "from rdkit import Chem, DataStructs\n",
    "from rdkit.Chem import AllChem\n",
    "import rdkit\n",
    "import rdkit.Chem\n",
    "\n",
    "fp1 = AllChem.GetMorganFingerprint(mol1, 2)\n",
    "fp2 = AllChem.GetMorganFingerprint(mol2, 2)\n",
    "\n",
    "sim = DataStructs.TanimotoSimilarity(fp1, fp2)\n",
    "print('Танимото схожесть: {}'.format(sim))"
   ]
  },
  {
   "cell_type": "code",
   "execution_count": null,
   "metadata": {},
   "outputs": [],
   "source": [
    "fp = open('./dataset/zinc250k/zinc250k.smi', 'r')\n",
    "smiles_list = [smiles.strip() for smiles in fp]"
   ]
  },
  {
   "cell_type": "code",
   "execution_count": null,
   "metadata": {},
   "outputs": [],
   "source": [
    "valid_mol(mol)"
   ]
  },
  {
   "cell_type": "code",
   "execution_count": null,
   "metadata": {},
   "outputs": [],
   "source": [
    "mol = Chem.MolFromSmiles('C1=CC=CC=C1')\n",
    "sml = Chem.MolToSmiles(mol)\n",
    "print(sml)"
   ]
  },
  {
   "cell_type": "code",
   "execution_count": null,
   "metadata": {},
   "outputs": [],
   "source": [
    "from rdkit import Chem\n",
    "from rdkit.Chem import Draw\n",
    "\n",
    "# Пример SMILES\n",
    "smiles = 'CC(=O)O'  # бензол\n",
    "\n",
    "# Создание молекулы из SMILES\n",
    "mol = Chem.MolFromSmiles(smiles)\n",
    "\n",
    "# Рисование молекулы и сохранение изображения\n",
    "img = Draw.MolToFile(mol, 'molecule.png')\n"
   ]
  }
 ],
 "metadata": {
  "kernelspec": {
   "display_name": "cuda_ml310",
   "language": "python",
   "name": "python3"
  },
  "language_info": {
   "codemirror_mode": {
    "name": "ipython",
    "version": 3
   },
   "file_extension": ".py",
   "mimetype": "text/x-python",
   "name": "python",
   "nbconvert_exporter": "python",
   "pygments_lexer": "ipython3",
   "version": "3.10.16"
  }
 },
 "nbformat": 4,
 "nbformat_minor": 2
}
