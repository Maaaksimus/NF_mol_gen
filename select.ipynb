{
 "cells": [
  {
   "cell_type": "code",
   "execution_count": 1,
   "id": "a1febaf2",
   "metadata": {},
   "outputs": [],
   "source": [
    "from rdkit import Chem, DataStructs\n",
    "from rdkit.Chem import AllChem, QED\n",
    "from rdkit.Chem import Draw\n",
    "from rdkit.Chem import rdMolDescriptors\n",
    "from rdkit import RDLogger\n",
    "from envs.sascorer import calculateScore\n",
    "from docking.docking_modif import dock_score\n",
    "from envs.environment import qed, penalized_logp\n",
    "import argparse"
   ]
  },
  {
   "cell_type": "code",
   "execution_count": 21,
   "id": "b096b761",
   "metadata": {},
   "outputs": [],
   "source": [
    "import numpy as np\n",
    "import os\n",
    "import pandas as pd\n",
    "from sklearn.model_selection import train_test_split\n",
    "import json\n",
    "from tqdm import tqdm\n",
    "import re\n",
    "import torch\n",
    "from datetime import datetime\n",
    "import matplotlib.pyplot as plt"
   ]
  },
  {
   "cell_type": "code",
   "execution_count": 3,
   "id": "aaac735f",
   "metadata": {},
   "outputs": [],
   "source": [
    "def tanimoto(sml):\n",
    "    \n",
    "    mol_dmnp = Chem.MolFromSmiles('CC1CCC(C2=C1C=CC(=C2)C)C(C)CCC(=O)O')\n",
    "    fp_dmnp = AllChem.GetMorganFingerprint(mol_dmnp, 2)\n",
    "\n",
    "    mol_sml = Chem.MolFromSmiles(sml)\n",
    "    fp_sml = AllChem.GetMorganFingerprint(mol_sml, 2)\n",
    "    \n",
    "    return DataStructs.TanimotoSimilarity(fp_dmnp, fp_sml)"
   ]
  },
  {
   "cell_type": "code",
   "execution_count": 4,
   "id": "9019be97",
   "metadata": {},
   "outputs": [
    {
     "name": "stderr",
     "output_type": "stream",
     "text": [
      "100%|██████████| 58/58 [26:15<00:00, 27.16s/it]\n"
     ]
    }
   ],
   "source": [
    "grand = [\n",
    "    'CCC(=O)CC(C)CC1CCC(C)c2ccc(C)cc21',\n",
    "    'Cc1ccc2c(c1)C(CCCC(=O)O)CCC2C',\n",
    "    'C=CCCC(C)Cc1cc(CC)ccc1C(C)CC',\n",
    "    'C=CCCC(C)C1CCC(C)c2ccc(CC)cc21',\n",
    "    'CCC(C)C(CC)c1ccc(C)cc1',\n",
    "    'Cc1ccc2c(c1)C(C(C)CCC1=CS1)CCC2C',\n",
    "    'Cc1ccc2c(c1)CCCC2C',\n",
    "    'CC=C(O)CCC(C)CCC(CC)c1cccc(C)c1',\n",
    "    'C=C(C)CC=CCCC(C)(C)CC(C)CCCC',\n",
    "    'Cc1ccccc1C(C)C1CC1',\n",
    "    'CC(=O)CCC(C)C1CCC(C)c2ccc(C)cc21',\n",
    "    'CC1CCC(C2=C1C=CC(=C2)C)C(C)CCC(=O)CCC(C)C1CCC(C)c2ccc(C)cc21',\n",
    "    'CC1CCC(C2=C1C=CC(=C2)C)C(C)C1CCC(C2=C1C=CC(=C2)C)C(C)CCC(=O)O',\n",
    "    'CC1CCC(C2=C1C=CC(=C2)C)C(C)CCC(=O)C1CCC(C2=C1C=CC(=C2)C)C(C)CCC(=O)O',\n",
    "    'C=C(C)CCC(C)C1CCC(C)c2ccc(C)cc21',\n",
    "    'CC1CCC(C2=C1C=CC(=C2)C)C(C)CCC(=C)CCC(=O)CCC(=O)O',\n",
    "    'Cc1ccc2c(c1)C(C(C)CCCC(=O)O)CCC2C',\n",
    "    'Cc1ccc2c(c1)C(C(C)CCC(N)=O)CCC2CC(C)N1CCC(C)c2ccc(C)cc21',\n",
    "    'CC1CCC(C2=C1C=CC(=C2)C)C(C)CCC(C)C(C)CCC(=O)O',\n",
    "    'CCC(=O)CC(C)CC(C)CC=CCCC(O)CCC(C)CCCc1ccc2c(c1)C(C(C)CCC1=CS1)CCC2C',\n",
    "    'CC1CCC(C2=C1C=CC(=C2)C)C(C)CCCC(C)CCC(=O)O',\n",
    "    'COC(CC(=O)CCC(C)C1OCC(C)c2ccc(C)cc21)c1cccc(C)c1',\n",
    "    'Cc1ccc2c(c1)C(C(C)C)CCC2C',\n",
    "    'C=CCCC(C)C1CCC(C)C2:ccc(OC)cc:21',\n",
    "    'Cc1ccc2c(c1)C(C(C)CCC1=CS1)CCC2C',\n",
    "    'CC1CCC(C2=C1C=CC(=C2)C)C(C)CCC(=O)CCC(=O)O',\n",
    "    'Cc1ccc2c(c1)C(C(C)CCC(=O)CCc1ccc3c(c1)CCC3C(C)C1CCC(C)c3ncc(C)cc31)CCC2C',\n",
    "    'CC1CCC(C2=C1C=CC(=C2)C)C(C)CCC1CCC(C2=C1C=CC(=C2)C)C(C)CCC(=O)O',\n",
    "    'Cc1ccc2c(c1)C(CC1CCC(C(C)CCC(=O)O)c3cc(C)ccc31)CCC2C',\n",
    "    'CC1CCC(C2=C1C=CC(=C2)C)C1CCC(C)c2ccc(C)cc21',\n",
    "    'CC1CCC(C2=C1C=CC(=C2)C)C(C)C1CCC(C2=C1C=CC(=C2)C)C(C)CCC(=O)O',\n",
    "    'CC1CCC(CCCC(=O)O)c2c:N(C):cccccc(C)cc21',\n",
    "    'CC1CCCC(N)=Cc2ccc(O):C:c2C1C(C)CCC(=O)CO',\n",
    "    'CC1CCC(C2=C1C=CC(=C2)C)C(C)CCCCC(=O)O',\n",
    "    'CC1CCC(C2=C1C=CC(=C2)C)C(C)CC=CCCC(O)CCC(C)CCCC1:ccc2c(c:1)C(C(C)CCC1=CS1)CCC2C',\n",
    "    'CC1CCC(C2=C1C=CC(=C2)C)C(C)C1:ccc2c(c:1)C(C(C)C(C)CNC(=O)O)CCC2C',\n",
    "    'CC1CCC(C2=C1C=CC(=C2)C)C(C)CC1CCC(C2=C1C=CC(=C2)C)C(C)CCC(=O)O',\n",
    "    'CC1CCC(C2=C1C=CC(=C2)C)C(C)CCC(=O)CCC(C)C1CCC(C)c2ccc(C)cc21',\n",
    "    'CC1CCC(C2=C1C=CC(=C2)C)C(C)CCC(C)CCC(=O)O',\n",
    "    'Cc1ccc2c(c1)C(C(C)CCCC(=O)O)CCC2C',\n",
    "    'Cc1ccc2c(c1)C(C(C)CN)CCC2CN(C)C1CCC(C2=C1C=CC(=C2)C)C1CCC(C2=C1C=CC(=C2)C)C(C)CCC(=O)O',\n",
    "    'CC1CCC(C2=C1C=CC(=C2)C)C(C)CC1CCC(C2=C1C=CC(=C2)C)C(C)CCC(=O)O',\n",
    "    'CC1CCC(C2=C1C=CC(=C2)C)C(C)CCC(=O)C1CCC(C)c2ccc(C)cc21',\n",
    "    'CC1CCC(C2=C1C=CC(=C2)C)C1CCC(C2=C1C=CC(=C2)C)C(C)CCC(=O)O',\n",
    "    'Cc1ccc2c(c1)C(C(C)CCC(=O)O)CCC2C(C)C1CCC(C)c2ccc(C)cc21',\n",
    "    'Cc1ccc2c(c1)C(C(C)CCC(=O)O)CCC2C1CCC(C)c2ccc(C)cc21',\n",
    "    'CC1CCC(C2=C1C=CC(=C2)C)C1CCC(C2=C1C=CC(=C2)C)C(C)CCC(=O)O',\n",
    "    'CC1CCC(C2=C1C=CC(=C2)C)C(C)CCCC1CCC(C2=C1C=CC(=C2)C)C(C)CCC(=O)O',\n",
    "    'Cc1cc:C2:c(c1)C(C(C)CCCC1CCC(C(C)CCC(=O)O)c3cc(C)ccc31)CCC2C',\n",
    "    'Cc1ccc2c(c1)C(C(C)CCC(=O)O)CCC2CC(C)C1CCC(C)c2ccc(C)cc21',\n",
    "    'CC1CCC(C2=C1C=CC(=C2)C)C(C)C1CCC(C)c2ccc(C)cc21',\n",
    "    'C=C(CSc1cnn:N:1c1cc(NC(C)=C2CCC(C)c3ccc(C)cc32)ccn1)c1ccc(F)c(F)c1',\n",
    "    'CC1CCC(C2=C1C=CC(=C2)C)C(C)CCc1ccc2c(c1)C(C(C)CNC(=O)O)CCC2C',\n",
    "    'C=C(O)OCC(C)C1CCC(C)c2ccc(CC(C)C3CCC(C)c4ccc(C)cc43)cc21',\n",
    "    'CC1CCC(C2=C1C=CC(=C2)C)C(C)Cc1ccc2c(:C:1)C(C(C)CCC(=O)O)CCC2C',\n",
    "    'Cc1ccc2c(c1)C(C(C)OCC(=O)O)CCC2C(C)C1CCC(C)c2ccc(C)cc21',\n",
    "    'CC1CCC(C2=C1C=CC(=C2)C)C(C)CCCc1ccc2c(c1)C(C(C)CCC(=O)O)CCC2C',\n",
    "    'CC1CCC(C2=C1C=CC(=C2)C)C(C)C1CCC(C2=C1C=CC(=C2)C)C(C)CCC(=O)O'\n",
    "]\n",
    "\n",
    "scores = []\n",
    "\n",
    "for sml in tqdm(grand):\n",
    "    try:\n",
    "        mol = Chem.MolFromSmiles(sml)\n",
    "        scores.append((sml, penalized_logp(mol), calculateScore(mol), dock_score(sml, 8), tanimoto(sml)))\n",
    "    except Exception:\n",
    "        scores.append((sml, 0, 0, 0, 0))\n",
    "    # print(sml, penalized_logp(mol), calculateScore(mol), dock_score(sml, 8), tanimoto(sml))\n"
   ]
  },
  {
   "cell_type": "markdown",
   "id": "313377a7",
   "metadata": {},
   "source": [
    "Docking MolHF\n",
    "\n",
    "1. Cc1ccc2c(c1)C(C(C)CCC(=O)CCc1ccc3c(c1)CCC3C(C)C1CCC(C)c3ncc(C)cc31)CCC2C\n",
    "2. Cc1ccc2c(c1)C(C(C)CCC(=O)O)CCC2C(C)C1CCC(C)c2ccc(C)cc21\n",
    "3. CC1CCC(C2=C1C=CC(=C2)C)C1CCC(C)c2ccc(C)cc21\n",
    "\n",
    "plogP GA\n",
    "\n",
    "1. CC1CCC(C2=C1C=CC(=C2)C)C(C)CCCC1CCC(C2=C1C=CC(=C2)C)C(C)CCC(=O)O\n",
    "2. Cc1ccc2c(c1)C(C(C)CCC(=O)O)CCC2CC(C)C1CCC(C)c2ccc(C)cc21\n",
    "3. CC1CCC(C2=C1C=CC(=C2)C)C(C)C1CCC(C2=C1C=CC(=C2)C)C(C)CCC(=O)O\n",
    "\n",
    "Tanimoto GA\n",
    "\n",
    "1. CC1CCC(C2=C1C=CC(=C2)C)C(C)CCCCC(=O)O\n",
    "2. CC1CCC(C2=C1C=CC(=C2)C)C(C)CCC(C)CCC(=O)O\n",
    "3. CC1CCC(C2=C1C=CC(=C2)C)C1CCC(C2=C1C=CC(=C2)C)C(C)CCC(=O)O\n",
    "\n",
    "Docking GA\n",
    "\n",
    "1. CC1CCC(C2=C1C=CC(=C2)C)C(C)CC1CCC(C2=C1C=CC(=C2)C)C(C)CCC(=O)O\n",
    "2. Cc1ccc2c(c1)C(C(C)OCC(=O)O)CCC2C(C)C1CCC(C)c2ccc(C)cc21\n",
    "3. CC1CCC(C2=C1C=CC(=C2)C)C(C)CCc1ccc2c(c1)C(C(C)CNC(=O)O)CCC2C"
   ]
  },
  {
   "cell_type": "code",
   "execution_count": 36,
   "id": "bdf00b7d",
   "metadata": {},
   "outputs": [
    {
     "name": "stdout",
     "output_type": "stream",
     "text": [
      "Top 1: 3.75 - Cc1ccc2c(c1)C(C(C)CCC(=O)CCc1ccc3c(c1)CCC3C(C)C1CCC(C)c3ncc(C)cc31)CCC2C, docking -10.50, tanimoto 0.37\n",
      "Top 2: 2.58 - Cc1ccc2c(c1)C(C(C)CCC(=O)O)CCC2C(C)C1CCC(C)c2ccc(C)cc21, docking -9.90, tanimoto 0.58\n",
      "Top 3: 2.66 - CC1CCC(C2=C1C=CC(=C2)C)C1CCC(C)c2ccc(C)cc21, docking -9.90, tanimoto 0.35\n",
      "Top 4: 2.67 - Cc1ccc2c(c1)C(CC1CCC(C(C)CCC(=O)O)c3cc(C)ccc31)CCC2C, docking -9.80, tanimoto 0.60\n",
      "Top 5: 2.88 - CC1CCC(C2=C1C=CC(=C2)C)C(C)CC1CCC(C2=C1C=CC(=C2)C)C(C)CCC(=O)O, docking -9.80, tanimoto 0.57\n",
      "Top 6: 2.72 - CC1CCC(C2=C1C=CC(=C2)C)C(C)CCC(=O)C1CCC(C)c2ccc(C)cc21, docking -9.80, tanimoto 0.53\n",
      "Top 7: 2.63 - CC1CCC(C2=C1C=CC(=C2)C)C1CCC(C2=C1C=CC(=C2)C)C(C)CCC(=O)O, docking -9.70, tanimoto 0.62\n",
      "Top 8: 2.63 - Cc1ccc2c(c1)C(C(C)CCC(=O)O)CCC2C1CCC(C)c2ccc(C)cc21, docking -9.60, tanimoto 0.62\n",
      "Top 9: 3.47 - CC1CCC(C2=C1C=CC(=C2)C)C(C)CCC(=O)CCC(C)C1CCC(C)c2ccc(C)cc21, docking -9.60, tanimoto 0.47\n",
      "Top 10: 2.63 - CC1CCC(C2=C1C=CC(=C2)C)C1CCC(C2=C1C=CC(=C2)C)C(C)CCC(=O)O, docking -9.40, tanimoto 0.62\n",
      "Top 11: 1.65 - Cc1ccc2c(c1)C(C(C)OCC(=O)O)CCC2C(C)C1CCC(C)c2ccc(C)cc21, docking -9.40, tanimoto 0.44\n",
      "Top 12: 2.58 - CC1CCC(C2=C1C=CC(=C2)C)C(C)C1CCC(C2=C1C=CC(=C2)C)C(C)CCC(=O)O, docking -9.30, tanimoto 0.58\n",
      "Top 13: 2.58 - CC1CCC(C2=C1C=CC(=C2)C)C(C)C1CCC(C2=C1C=CC(=C2)C)C(C)CCC(=O)O, docking -9.30, tanimoto 0.58\n",
      "Top 14: 2.75 - CC1CCC(C2=C1C=CC(=C2)C)C(C)CCC(=O)C1CCC(C2=C1C=CC(=C2)C)C(C)CCC(=O)O, docking -9.30, tanimoto 0.52\n",
      "Top 15: 2.53 - CC1CCC(C2=C1C=CC(=C2)C)C(C)CCc1ccc2c(c1)C(C(C)CNC(=O)O)CCC2C, docking -9.30, tanimoto 0.47\n",
      "Top 16: 2.58 - CC1CCC(C2=C1C=CC(=C2)C)C(C)C1CCC(C2=C1C=CC(=C2)C)C(C)CCC(=O)O, docking -9.20, tanimoto 0.58\n",
      "Top 17: 2.88 - Cc1ccc2c(c1)C(C(C)CCC(=O)O)CCC2CC(C)C1CCC(C)c2ccc(C)cc21, docking -9.20, tanimoto 0.57\n",
      "Top 18: 2.88 - CC1CCC(C2=C1C=CC(=C2)C)C(C)CC1CCC(C2=C1C=CC(=C2)C)C(C)CCC(=O)O, docking -9.10, tanimoto 0.57\n",
      "Top 19: 3.43 - CC1CCC(C2=C1C=CC(=C2)C)C(C)CCCC1CCC(C2=C1C=CC(=C2)C)C(C)CCC(=O)O, docking -9.10, tanimoto 0.53\n",
      "Top 20: 1.93 - Cc1ccc2c(c1)C(C(C)CCC(N)=O)CCC2CC(C)N1CCC(C)c2ccc(C)cc21, docking -9.10, tanimoto 0.45\n",
      "Top 21: 2.60 - C=C(O)OCC(C)C1CCC(C)c2ccc(CC(C)C3CCC(C)c4ccc(C)cc43)cc21, docking -9.10, tanimoto 0.43\n",
      "Top 22: 2.67 - CC1CCC(C2=C1C=CC(=C2)C)C(C)C1CCC(C)c2ccc(C)cc21, docking -9.10, tanimoto 0.40\n",
      "Top 23: 3.36 - CC1CCC(C2=C1C=CC(=C2)C)C(C)CCCc1ccc2c(c1)C(C(C)CCC(=O)O)CCC2C, docking -9.00, tanimoto 0.53\n",
      "Top 24: 3.47 - CC1CCC(C2=C1C=CC(=C2)C)C(C)CCC(=O)CCC(C)C1CCC(C)c2ccc(C)cc21, docking -9.00, tanimoto 0.47\n",
      "Top 25: 3.16 - CC1CCC(C2=C1C=CC(=C2)C)C(C)CCC1CCC(C2=C1C=CC(=C2)C)C(C)CCC(=O)O, docking -8.90, tanimoto 0.55\n",
      "Top 26: 1.65 - COC(CC(=O)CCC(C)C1OCC(C)c2ccc(C)cc21)c1cccc(C)c1, docking -8.30, tanimoto 0.39\n",
      "Top 27: 3.11 - Cc1ccc2c(c1)C(C(C)CN)CCC2CN(C)C1CCC(C2=C1C=CC(=C2)C)C1CCC(C2=C1C=CC(=C2)C)C(C)CCC(=O)O, docking -8.20, tanimoto 0.34\n",
      "Top 28: 1.52 - Cc1ccc2c(c1)C(C(C)CCC1=CS1)CCC2C, docking -8.10, tanimoto 0.67\n",
      "Top 29: 1.52 - Cc1ccc2c(c1)C(C(C)CCC1=CS1)CCC2C, docking -8.10, tanimoto 0.67\n",
      "Top 30: 1.53 - CCC(=O)CC(C)CC1CCC(C)c2ccc(C)cc21, docking -8.10, tanimoto 0.55\n",
      "Top 31: 1.99 - CC1CCC(C2=C1C=CC(=C2)C)C(C)CCC(C)C(C)CCC(=O)O, docking -8.00, tanimoto 0.74\n",
      "Top 32: 1.46 - Cc1ccc2c(c1)C(C(C)CCCC(=O)O)CCC2C, docking -7.90, tanimoto 0.88\n",
      "Top 33: 1.46 - Cc1ccc2c(c1)C(C(C)CCCC(=O)O)CCC2C, docking -7.90, tanimoto 0.88\n",
      "Top 34: 1.86 - CC1CCC(C2=C1C=CC(=C2)C)C(C)CCC(=C)CCC(=O)CCC(=O)O, docking -7.90, tanimoto 0.68\n",
      "Top 35: 1.78 - CC1CCC(C2=C1C=CC(=C2)C)C(C)CCCCC(=O)O, docking -7.80, tanimoto 0.83\n",
      "Top 36: 1.44 - CC(=O)CCC(C)C1CCC(C)c2ccc(C)cc21, docking -7.80, tanimoto 0.82\n",
      "Top 37: 1.27 - CC1CCC(C2=C1C=CC(=C2)C)C(C)CCC(=O)CCC(=O)O, docking -7.80, tanimoto 0.80\n",
      "Top 38: 1.60 - Cc1ccc2c(c1)C(C(C)C)CCC2C, docking -7.80, tanimoto 0.63\n",
      "Top 39: 1.95 - C=C(C)CCC(C)C1CCC(C)c2ccc(C)cc21, docking -7.70, tanimoto 0.76\n",
      "Top 40: 4.14 - CCC(=O)CC(C)CC(C)CC=CCCC(O)CCC(C)CCCc1ccc2c(c1)C(C(C)CCC1=CS1)CCC2C, docking -7.60, tanimoto 0.32\n",
      "Top 41: 2.14 - CC1CCC(C2=C1C=CC(=C2)C)C(C)CCCC(C)CCC(=O)O, docking -7.50, tanimoto 0.76\n",
      "Top 42: 1.85 - CC1CCC(C2=C1C=CC(=C2)C)C(C)CCC(C)CCC(=O)O, docking -7.40, tanimoto 0.80\n",
      "Top 43: 1.38 - Cc1ccc2c(c1)C(CCCC(=O)O)CCC2C, docking -7.40, tanimoto 0.65\n",
      "Top 44: 2.43 - C=CCCC(C)Cc1cc(CC)ccc1C(C)CC, docking -7.40, tanimoto 0.20\n",
      "Top 45: 1.87 - C=CCCC(C)C1CCC(C)c2ccc(CC)cc21, docking -7.30, tanimoto 0.54\n",
      "Top 46: 1.57 - Cc1ccc2c(c1)CCCC2C, docking -7.10, tanimoto 0.39\n",
      "Top 47: 2.57 - C=C(C)CC=CCCC(C)(C)CC(C)CCCC, docking -6.40, tanimoto 0.10\n",
      "Top 48: 2.35 - CC=C(O)CCC(C)CCC(CC)c1cccc(C)c1, docking 0.00, tanimoto 0.27\n",
      "Top 49: 1.68 - Cc1ccccc1C(C)C1CC1, docking 0.00, tanimoto 0.25\n",
      "Top 50: 2.12 - CCC(C)C(CC)c1ccc(C)cc1, docking 0.00, tanimoto 0.23\n",
      "Top 51: 0.00 - C=CCCC(C)C1CCC(C)C2:ccc(OC)cc:21, docking 0.00, tanimoto 0.00\n",
      "Top 52: 0.00 - CC1CCC(CCCC(=O)O)c2c:N(C):cccccc(C)cc21, docking 0.00, tanimoto 0.00\n",
      "Top 53: 0.00 - CC1CCCC(N)=Cc2ccc(O):C:c2C1C(C)CCC(=O)CO, docking 0.00, tanimoto 0.00\n",
      "Top 54: 0.00 - CC1CCC(C2=C1C=CC(=C2)C)C(C)CC=CCCC(O)CCC(C)CCCC1:ccc2c(c:1)C(C(C)CCC1=CS1)CCC2C, docking 0.00, tanimoto 0.00\n",
      "Top 55: 0.00 - CC1CCC(C2=C1C=CC(=C2)C)C(C)C1:ccc2c(c:1)C(C(C)C(C)CNC(=O)O)CCC2C, docking 0.00, tanimoto 0.00\n",
      "Top 56: 0.00 - Cc1cc:C2:c(c1)C(C(C)CCCC1CCC(C(C)CCC(=O)O)c3cc(C)ccc31)CCC2C, docking 0.00, tanimoto 0.00\n",
      "Top 57: 0.00 - C=C(CSc1cnn:N:1c1cc(NC(C)=C2CCC(C)c3ccc(C)cc32)ccn1)c1ccc(F)c(F)c1, docking 0.00, tanimoto 0.00\n",
      "Top 58: 0.00 - CC1CCC(C2=C1C=CC(=C2)C)C(C)Cc1ccc2c(:C:1)C(C(C)CCC(=O)O)CCC2C, docking 0.00, tanimoto 0.00\n"
     ]
    }
   ],
   "source": [
    "scores.sort(key=lambda x: x[3])\n",
    "for i, fnd in enumerate(scores):\n",
    "    mol = Chem.MolFromSmiles(fnd[0])\n",
    "    print('Top {}: {:.2f} - {}, docking {:.2f}, tanimoto {:.2f}'.format(i + 1, fnd[1], fnd[0], fnd[3], fnd[4]))\n",
    "    # img = Draw.MolToImage(mol, size=(400, 400))\n",
    "    # img.save(f\"../Картинки для теха/molhf/dock/molhf_dock_{i + 1}_{fnd[0]}.png\")"
   ]
  },
  {
   "cell_type": "code",
   "execution_count": 13,
   "id": "13660aa4",
   "metadata": {},
   "outputs": [],
   "source": [
    "file_path = os.path.join('./dataset/zinc250k/zinc250k.smi')\n",
    "fp = open(file_path, 'r')\n",
    "smiles_list = [smiles.strip() for smiles in fp]\n",
    "\n",
    "tanimoto_vec = np.vectorize(tanimoto)\n",
    "tan = tanimoto_vec(smiles_list)"
   ]
  },
  {
   "cell_type": "code",
   "execution_count": 31,
   "id": "6263e52f",
   "metadata": {},
   "outputs": [
    {
     "data": {
      "text/plain": [
       "0.3870967741935484"
      ]
     },
     "execution_count": 31,
     "metadata": {},
     "output_type": "execute_result"
    }
   ],
   "source": [
    "tan.max()"
   ]
  }
 ],
 "metadata": {
  "kernelspec": {
   "display_name": "cuda_ml39",
   "language": "python",
   "name": "python3"
  },
  "language_info": {
   "codemirror_mode": {
    "name": "ipython",
    "version": 3
   },
   "file_extension": ".py",
   "mimetype": "text/x-python",
   "name": "python",
   "nbconvert_exporter": "python",
   "pygments_lexer": "ipython3",
   "version": "3.9.21"
  }
 },
 "nbformat": 4,
 "nbformat_minor": 5
}
